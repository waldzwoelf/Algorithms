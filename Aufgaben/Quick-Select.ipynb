{
 "cells": [
  {
   "cell_type": "code",
   "execution_count": 6,
   "metadata": {},
   "outputs": [
    {
     "data": {
      "text/html": [
       "<link href='http://fonts.googleapis.com/css?family=Alegreya+Sans:100,300,400,500,700,800,900,100italic,300italic,400italic,500italic,700italic,800italic,900italic' rel='stylesheet' type='text/css'>\n",
       "<link href='http://fonts.googleapis.com/css?family=Arvo:400,700,400italic' rel='stylesheet' type='text/css'>\n",
       "<link href='http://fonts.googleapis.com/css?family=PT+Mono' rel='stylesheet' type='text/css'>\n",
       "<link href='http://fonts.googleapis.com/css?family=Shadows+Into+Light' rel='stylesheet' type='text/css'>\n",
       "<link href='http://fonts.googleapis.com/css?family=Philosopher:400,700,400italic,700italic' rel='stylesheet' type='text/css'>\n",
       "\n",
       "<style>\n",
       "\n",
       "@font-face {\n",
       "    font-family: \"Computer Modern\";\n",
       "    src: url('http://mirrors.ctan.org/fonts/cm-unicode/fonts/otf/cmunss.otf');\n",
       "}\n",
       "\n",
       ".container { width: 100% }\n",
       "\n",
       "/* Formatting for header cells */\n",
       ".text_cell_render h1 {\n",
       "    font-family: 'Philosopher', sans-serif;\n",
       "    font-weight: 400;\n",
       "    font-size: 2.2em;\n",
       "    line-height: 100%;\n",
       "    color: rgb(0, 80, 120);\n",
       "    margin-bottom: 0.1em;\n",
       "    margin-top: 0.1em;\n",
       "    display: block;\n",
       "}\t\n",
       ".text_cell_render h2 {\n",
       "    font-family: 'Philosopher', serif;\n",
       "    font-weight: 400;\n",
       "    font-size: 1.9em;\n",
       "    line-height: 100%;\n",
       "    color: rgb(200,100,0);\n",
       "    margin-bottom: 0.1em;\n",
       "    margin-top: 0.1em;\n",
       "    display: block;\n",
       "}\t\n",
       "\n",
       ".text_cell_render h3 {\n",
       "    font-family: 'Philosopher', serif;\n",
       "    margin-top:12px;\n",
       "    margin-bottom: 3px;\n",
       "    font-style: italic;\n",
       "    color: rgb(94,127,192);\n",
       "}\n",
       "\n",
       ".text_cell_render h4 {\n",
       "    font-family: 'Philosopher', serif;\n",
       "}\n",
       "\n",
       ".text_cell_render h5 {\n",
       "    font-family: 'Alegreya Sans', sans-serif;\n",
       "    font-weight: 300;\n",
       "    font-size: 16pt;\n",
       "    color: grey;\n",
       "    font-style: italic;\n",
       "    margin-bottom: .1em;\n",
       "    margin-top: 0.1em;\n",
       "    display: block;\n",
       "}\n",
       "\n",
       ".text_cell_render h6 {\n",
       "    font-family: 'PT Mono', sans-serif;\n",
       "    font-weight: 300;\n",
       "    font-size: 10pt;\n",
       "    color: grey;\n",
       "    margin-bottom: 1px;\n",
       "    margin-top: 1px;\n",
       "}\n",
       "\n",
       ".text_cell_render em {\n",
       "    font-family: 'Philosopher', sans-serif;\n",
       "    color:        blue;\n",
       "    background-color: rgb(255,220,180);\n",
       "    font-size:    110%;\n",
       "    margin-left:   2px;\n",
       "    margin-right:  2px;\n",
       "    font-weight:   100;\n",
       "}\n",
       "\n",
       ".text_cell_render b {\n",
       "    color:            rgb(255,195,195);\n",
       "    background-color: rgb(0,0,0);\n",
       "    font-size:    110%;\n",
       "    margin-left:   2px;\n",
       "    margin-right:  2px;\n",
       "    font-weight:   650;\n",
       "}\n",
       "\n",
       ".text_cell_render tt {\n",
       "    font-size:    120%;\n",
       "    margin-left:   2px;\n",
       "    margin-right:  2px;\n",
       "    font-weight:   150;\n",
       "}\n",
       "\n",
       ".Codemirror {\n",
       "    font-family: \"PT Mono\";\n",
       "    font-size: 100%;\n",
       "}\n",
       "\n",
       "</style>\n",
       "\n"
      ],
      "text/plain": [
       "<IPython.core.display.HTML object>"
      ]
     },
     "execution_count": 6,
     "metadata": {},
     "output_type": "execute_result"
    }
   ],
   "source": [
    "from IPython.core.display import HTML\n",
    "with open('./style.css') as file:\n",
    "    css = file.read()\n",
    "HTML(css)"
   ]
  },
  {
   "cell_type": "markdown",
   "metadata": {},
   "source": [
    "# Quicksort"
   ]
  },
  {
   "cell_type": "markdown",
   "metadata": {},
   "source": [
    "The basic idea of <em style=\"color:blue;\">quick sort</em> is as follows:\n",
    "  - If the list $\\mathtt{L}$ that is to be sorted is empty, we return $\\mathtt{L}$: \n",
    "    $$ \\mathtt{sort}([]) = [] $$\n",
    "  - Otherwise, we have $\\mathtt{L} = [\\mathtt{x}] + \\mathtt{R}$.  In this case, we split $\\mathtt{R}$ into two lists \n",
    "    $\\mathtt{S}$ and $\\mathtt{B}$.\n",
    "     - The list $\\mathtt{S}$ (the letter $\\mathtt{S}$ stands for $\\underline{s}\\textrm{mall}$) contains all those elements \n",
    "       of $\\mathtt{R}$ that are less or equal than $\\mathtt{x}$, we have:\n",
    "       $$ \\mathtt{S} := [\\mathtt{y} \\in \\mathtt{R} \\mid \\mathtt{y} \\leq \\mathtt{x}] $$\n",
    "     - The list $\\mathtt{B}$ (the letter $\\mathtt{B}$ stands for $\\underline{b}\\textrm{ig}$) contains those elements of $\\mathtt{R}$ \n",
    "       that are bigger than $\\mathtt{x}$, we have:\n",
    "       $$ \\mathtt{B} := [\\mathtt{y} \\in \\mathtt{R} \\mid \\mathtt{y} > \\mathtt{x}] $$\n",
    "   \n",
    "    The process of splitting the list $\\mathtt{R}$ into the lists $\\mathtt{S}$ and $\\mathtt{B}$\n",
    "    is called <em style=\"color:blue;\">partitioning</em>.  After partitioning the list $\\mathtt{R}$ into the lists\n",
    "    $\\mathtt{S}$ and $\\mathtt{B}$, these lists are sorted\n",
    "    recursively.  Then, the result is computed by putting $\\mathtt{x}$ between the lists $\\mathtt{sort}(\\mathtt{S})$ \n",
    "    and $\\mathtt{sort}(\\mathtt{B})$:\n",
    "    $$\\mathtt{sort}([\\mathtt{x}]+\\mathtt{R}) = \\mathtt{sort}(\\mathtt{S}) + [\\mathtt{x}] + \\mathtt{sort}(\\mathtt{B})$$"
   ]
  },
  {
   "cell_type": "code",
   "execution_count": 7,
   "metadata": {},
   "outputs": [],
   "source": [
    "def sort(L):\n",
    "    if L == []:\n",
    "        return L\n",
    "    x, *R = L\n",
    "    S = [y for y in R if y <= x]\n",
    "    B = [y for y in R if y >  x]\n",
    "    return sort(S) + [x] + sort(B)"
   ]
  },
  {
   "cell_type": "code",
   "execution_count": null,
   "metadata": {},
   "outputs": [],
   "source": []
  },
  {
   "cell_type": "code",
   "execution_count": 8,
   "metadata": {},
   "outputs": [
    {
     "data": {
      "text/plain": [
       "[2, 2, 3, 3, 5, 7, 7, 8, 9, 11, 12]"
      ]
     },
     "execution_count": 8,
     "metadata": {},
     "output_type": "execute_result"
    }
   ],
   "source": [
    "sort([7, 8, 11, 12, 2, 5, 3, 7, 9, 3, 2])"
   ]
  },
  {
   "cell_type": "markdown",
   "metadata": {},
   "source": []
  },
  {
   "cell_type": "code",
   "execution_count": 10,
   "metadata": {},
   "outputs": [],
   "source": [
    "def quickSelect(L,k):\n",
    "    if len(L) == k:\n",
    "        return L \n",
    "    x, *R = L\n",
    "    S = [y for y in R if y <= x]\n",
    "    B = [y for y in R if y >  x]\n",
    "    if len(S) > k :\n",
    "        return quickSelect(S,k)\n",
    "    if len(S) == k:\n",
    "        return S\n",
    "    if len(S) == k-1:\n",
    "        return S + [x]\n",
    "    if len(S) < k-1:\n",
    "        return S + [x] + quickSelect(B,k-len(S)-1)\n",
    "    "
   ]
  },
  {
   "cell_type": "code",
   "execution_count": 12,
   "metadata": {},
   "outputs": [
    {
     "data": {
      "text/plain": [
       "[2, 2, 3, 3, 5]"
      ]
     },
     "execution_count": 12,
     "metadata": {},
     "output_type": "execute_result"
    }
   ],
   "source": [
    "quickSelect([7, 8, 11, 12, 2, 5, 3, 7, 9, 3, 2],5)"
   ]
  },
  {
   "cell_type": "markdown",
   "metadata": {},
   "source": [
    "### Rekursive Gleichung"
   ]
  },
  {
   "cell_type": "markdown",
   "metadata": {},
   "source": [
    "quickSelect\n",
    "\n",
    "a) #L = k --> quickSelect(L,k) = L\n",
    "\n",
    "b) #L < k --> quickSelect(L,k) = L\n",
    "\n",
    "c) #L > k --> S = (y for y in L if y<=k) ; L = S + k\n",
    "\n",
    "    \n",
    "    \n",
    "    1. #S <= k --> quickSelect(S,k-#L)  \n",
    "    2. "
   ]
  },
  {
   "cell_type": "code",
   "execution_count": null,
   "metadata": {},
   "outputs": [],
   "source": []
  }
 ],
 "metadata": {
  "kernelspec": {
   "display_name": "Python 3",
   "language": "python",
   "name": "python3"
  },
  "language_info": {
   "codemirror_mode": {
    "name": "ipython",
    "version": 3
   },
   "file_extension": ".py",
   "mimetype": "text/x-python",
   "name": "python",
   "nbconvert_exporter": "python",
   "pygments_lexer": "ipython3",
   "version": "3.8.3"
  },
  "varInspector": {
   "cols": {
    "lenName": 16,
    "lenType": 16,
    "lenVar": 40
   },
   "kernels_config": {
    "python": {
     "delete_cmd_postfix": "",
     "delete_cmd_prefix": "del ",
     "library": "var_list.py",
     "varRefreshCmd": "print(var_dic_list())"
    },
    "r": {
     "delete_cmd_postfix": ") ",
     "delete_cmd_prefix": "rm(",
     "library": "var_list.r",
     "varRefreshCmd": "cat(var_dic_list()) "
    }
   },
   "types_to_exclude": [
    "module",
    "function",
    "builtin_function_or_method",
    "instance",
    "_Feature"
   ],
   "window_display": false
  }
 },
 "nbformat": 4,
 "nbformat_minor": 2
}
