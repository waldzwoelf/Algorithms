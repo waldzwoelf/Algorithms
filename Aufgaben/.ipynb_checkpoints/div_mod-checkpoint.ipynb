{
 "cells": [
  {
   "cell_type": "markdown",
   "metadata": {},
   "source": [
    "**Iterativer Ansatz**"
   ]
  },
  {
   "cell_type": "code",
   "execution_count": 10,
   "metadata": {},
   "outputs": [],
   "source": [
    "def div_mod(m,n):\n",
    "    div = 0\n",
    "    while(m>=0 and m>=n):\n",
    "        m=m-n\n",
    "        div = div +1\n",
    "    return (div,m)"
   ]
  },
  {
   "cell_type": "code",
   "execution_count": 12,
   "metadata": {},
   "outputs": [
    {
     "name": "stdout",
     "output_type": "stream",
     "text": [
      "(3, 3)\n"
     ]
    }
   ],
   "source": [
    "print(div_mod(15,4))"
   ]
  },
  {
   "cell_type": "markdown",
   "metadata": {},
   "source": [
    "**Rekursiver Ansatz**"
   ]
  },
  {
   "cell_type": "code",
   "execution_count": 18,
   "metadata": {},
   "outputs": [],
   "source": [
    "def div_mod_rek(m,n):\n",
    "    if(m == 0):\n",
    "        return 0,n\n",
    "    q1,r1 = div_mod_rek(m//2,n)\n",
    "    if(2*r1+(m%2) < n):\n",
    "        q = 2*q1\n",
    "        r = 2 *r1 +m%2\n",
    "        return q,r\n",
    "    else: \n",
    "        q=2*q1+1\n",
    "        r=2*r1+m%2-n\n",
    "        return q,r\n",
    "        \n",
    "        \n"
   ]
  },
  {
   "cell_type": "code",
   "execution_count": 20,
   "metadata": {},
   "outputs": [
    {
     "data": {
      "text/plain": [
       "(15, 12)"
      ]
     },
     "execution_count": 20,
     "metadata": {},
     "output_type": "execute_result"
    }
   ],
   "source": [
    "div_mod_rek(9,3)"
   ]
  },
  {
   "cell_type": "code",
   "execution_count": null,
   "metadata": {},
   "outputs": [],
   "source": []
  }
 ],
 "metadata": {
  "kernelspec": {
   "display_name": "Python 3",
   "language": "python",
   "name": "python3"
  },
  "language_info": {
   "codemirror_mode": {
    "name": "ipython",
    "version": 3
   },
   "file_extension": ".py",
   "mimetype": "text/x-python",
   "name": "python",
   "nbconvert_exporter": "python",
   "pygments_lexer": "ipython3",
   "version": "3.8.3"
  }
 },
 "nbformat": 4,
 "nbformat_minor": 4
}
