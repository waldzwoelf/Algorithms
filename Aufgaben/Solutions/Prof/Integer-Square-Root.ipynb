{
 "cells": [
  {
   "cell_type": "code",
   "execution_count": null,
   "metadata": {},
   "outputs": [],
   "source": [
    "from IPython.core.display import HTML\n",
    "with open('../style.css') as file:\n",
    "    css = file.read()\n",
    "HTML(css)"
   ]
  },
  {
   "cell_type": "markdown",
   "metadata": {},
   "source": [
    "# Integer Square Root"
   ]
  },
  {
   "cell_type": "markdown",
   "metadata": {},
   "source": [
    "The function `isqrt(n)` takes one natural numbers $n$ and returns the largest natural number $r$ such that\n",
    "$r^2 \\leq n$, i.e. we have\n",
    "$$ \\texttt{isqrt}(n) := \\max\\bigl(\\{ r \\in \\mathbb{N} \\mid r^2 \\leq n \\}\\bigr). $$\n",
    "Our goal is to compute `isqrt(n)` recursively via a *divide-and-conquer* algorithm as follows:\n",
    "1. $\\texttt{isqrt}(0) = 0$.\n",
    "2. $\\bigl(2 \\cdot \\texttt{isqrt}(n \\,\\texttt{//}\\, 4) + 1\\bigr)^2 \\leq n \\rightarrow \\texttt{isqrt}(n) = 2 \\cdot \\texttt{isqrt}(n \\,\\texttt{//}\\, 4) + 1$.\n",
    "3. $\\bigl(2 \\cdot \\texttt{isqrt}(n \\,\\texttt{//}\\, 4) + 1\\bigr)^2 > n \\rightarrow \\texttt{isqrt}(n) = 2 \\cdot \\texttt{isqrt}(n \\,\\texttt{//}\\, 4)$.\n",
    "\n",
    "The function `rsqrt` computes the integer square root of the numnber `n` recursively."
   ]
  },
  {
   "cell_type": "code",
   "execution_count": null,
   "metadata": {},
   "outputs": [],
   "source": [
    "def rsqrt(n):\n",
    "    if n == 0:\n",
    "        return 0\n",
    "    r = 2 * rsqrt(n // 4)\n",
    "    if (r + 1) ** 2 <= n:\n",
    "        return r + 1\n",
    "    else:\n",
    "        return r"
   ]
  },
  {
   "cell_type": "code",
   "execution_count": null,
   "metadata": {},
   "outputs": [],
   "source": [
    "for n in range(10):\n",
    "    print(f'rsqrt({n}) = {rsqrt(n)}')"
   ]
  },
  {
   "cell_type": "markdown",
   "metadata": {},
   "source": [
    "In order to test our implementation more thoroughly we use random numbers."
   ]
  },
  {
   "cell_type": "code",
   "execution_count": null,
   "metadata": {},
   "outputs": [],
   "source": [
    "import random\n",
    "random.seed(0)"
   ]
  },
  {
   "cell_type": "markdown",
   "metadata": {},
   "source": [
    "The function `run_tests(no_tests, f)` generates `no_tests` integers `n` and tests, whether \n",
    "`f(n)` is the *integer square root* of `n` in each case."
   ]
  },
  {
   "cell_type": "code",
   "execution_count": null,
   "metadata": {},
   "outputs": [],
   "source": [
    "def run_tests(no_tests, f):\n",
    "    for i in range(no_tests):\n",
    "        n = random.randrange(2 ** 32)\n",
    "        r = f(n)\n",
    "        assert r * r <= n and (r + 1)**2 > n, f'Error: {r} != isqrt({n})'"
   ]
  },
  {
   "cell_type": "code",
   "execution_count": null,
   "metadata": {},
   "outputs": [],
   "source": [
    "%%time\n",
    "run_tests(10**6, rsqrt)"
   ]
  },
  {
   "cell_type": "markdown",
   "metadata": {},
   "source": [
    "The function `sqrt2(k)` returns $\\sqrt{2}$ up to `k` decimal places."
   ]
  },
  {
   "cell_type": "code",
   "execution_count": null,
   "metadata": {},
   "outputs": [],
   "source": [
    "def sqrt2(k, f):\n",
    "    n = 2 * 10 ** (2 * k)\n",
    "    r = f(n)\n",
    "    s = str(r)\n",
    "    return s[0] + '.' + s[1:]"
   ]
  },
  {
   "cell_type": "markdown",
   "metadata": {},
   "source": [
    "Let us compute the first $800$ digits of $\\sqrt{2\\,}$."
   ]
  },
  {
   "cell_type": "code",
   "execution_count": null,
   "metadata": {},
   "outputs": [],
   "source": [
    "import sys\n",
    "sys.setrecursionlimit(6000)"
   ]
  },
  {
   "cell_type": "code",
   "execution_count": null,
   "metadata": {},
   "outputs": [],
   "source": [
    "%%time\n",
    "sqrt2(800, rsqrt)"
   ]
  },
  {
   "cell_type": "markdown",
   "metadata": {},
   "source": [
    "You can compare this with the results shown on https://catonmat.net/tools/generate-sqrt2-digits."
   ]
  },
  {
   "cell_type": "markdown",
   "metadata": {},
   "source": [
    "The recursive implementation of `isqrt(n)` is based on the formula\n",
    " $$  \\texttt{isqrt}(n) = \\left\\{\n",
    "     \\begin{array}{ll}\n",
    "       2 \\cdot \\texttt{isqrt}(n \\,\\texttt{//}\\, 4) + 1 & \n",
    "              \\mbox{if $\\bigl(2 \\cdot \\texttt{isqrt}(n \\,\\texttt{//}\\, 4) + 1\\bigr)^2 \\leq n$;} \\\\\n",
    "       2 \\cdot \\texttt{isqrt}(n \\,\\texttt{//}\\, 4)     &\n",
    "              \\mbox{otherwise.}\n",
    "     \\end{array}\n",
    "     \\right.\n",
    "$$\n",
    "In each of these two cases, $\\texttt{isqrt}(n)$ is computed in terms of $\\texttt{isqrt}(n \\,\\texttt{//}\\, 4)$.\n",
    "The number `n // 4` results from the number `n` by cutting of the last two bits.  If we want to transform our\n",
    "recursive implementation into an iterative implementation, then the iterative implementation needs to add two\n",
    "bits of `n` in every iteration.  Therefore, we first implement an auxiliary function next.  This function\n",
    "is used to calculate the bits of `n`."
   ]
  },
  {
   "cell_type": "markdown",
   "metadata": {},
   "source": [
    "The function `list_of_digits` returns a list of digits representing `n` in base 4, i.e.\n",
    "if `n` is given as\n",
    "$$ n = \\sum\\limits_{i=0}^k d_i \\cdot 4^i \\quad\\mbox{where $0 \\leq d_i < 4$}$$\n",
    "then we have\n",
    "$$ \\texttt{list_of_digits}(n) = [d_0, d_1, \\cdots, d_k]. $$"
   ]
  },
  {
   "cell_type": "code",
   "execution_count": null,
   "metadata": {},
   "outputs": [],
   "source": [
    "def list_of_digits(n):\n",
    "    L = []\n",
    "    while n > 0:\n",
    "        L += [n % 4]\n",
    "        n  = n // 4\n",
    "    return L"
   ]
  },
  {
   "cell_type": "code",
   "execution_count": null,
   "metadata": {},
   "outputs": [],
   "source": [
    "list_of_digits(18)"
   ]
  },
  {
   "cell_type": "markdown",
   "metadata": {},
   "source": [
    "Assume that in base 4 the number $n$ is given as\n",
    "$$ n = \\sum\\limits_{j=0}^k d_j \\cdot 4^j \\quad\\mbox{where $0 \\leq d_j < 4$}$$\n",
    "Let us denote by $m_i$ and $r_i$ the values of the variable `m` and `r` at the \n",
    "beginning of the $(i+1)^\\mathrm{th}$ iteration of the `while`-loop.  Then the following\n",
    "invariants hold:\n",
    "* $L = [d_0, d_1, \\cdots, d_{k-i}]$,\n",
    "* $m_i = n \\;\\texttt{//}\\; 4^{k+1-i}$,\n",
    "* $r_i = \\texttt{isqrt}(m_i)$.\n",
    "\n",
    "As the loop ends after $k+1$ iterations, the final value of `r` is \n",
    "$$\\texttt{isqrt}(m_{k+1}) = \\texttt{isqrt}(n \\;\\texttt{//}\\; 4^{k+1-(k+1)}) = \\texttt{isqrt}(n).$$"
   ]
  },
  {
   "cell_type": "code",
   "execution_count": null,
   "metadata": {},
   "outputs": [],
   "source": [
    "def isr(n):\n",
    "    L = list_of_digits(n)\n",
    "    r = 0\n",
    "    m = 0\n",
    "    while len(L) > 0:\n",
    "        m = 4 * m + L[-1]\n",
    "        L = L[:-1]\n",
    "        if (2 * r + 1) ** 2 <= m:\n",
    "            r = 2 * r + 1\n",
    "        else:\n",
    "            r = 2 * r\n",
    "    return r"
   ]
  },
  {
   "cell_type": "code",
   "execution_count": null,
   "metadata": {},
   "outputs": [],
   "source": [
    "for n in range(100):\n",
    "    print(f'isr({n}) = {isr(n)}')"
   ]
  },
  {
   "cell_type": "code",
   "execution_count": null,
   "metadata": {},
   "outputs": [],
   "source": [
    "%%time\n",
    "run_tests(10**6, isr)"
   ]
  },
  {
   "cell_type": "code",
   "execution_count": null,
   "metadata": {},
   "outputs": [],
   "source": [
    "%%time\n",
    "sqrt2(100, isr)"
   ]
  },
  {
   "cell_type": "code",
   "execution_count": null,
   "metadata": {
    "scrolled": false
   },
   "outputs": [],
   "source": [
    "%%time\n",
    "sqrt2(10000, isr)"
   ]
  },
  {
   "cell_type": "code",
   "execution_count": null,
   "metadata": {},
   "outputs": [],
   "source": []
  }
 ],
 "metadata": {
  "kernelspec": {
   "display_name": "Python 3",
   "language": "python",
   "name": "python3"
  },
  "language_info": {
   "codemirror_mode": {
    "name": "ipython",
    "version": 3
   },
   "file_extension": ".py",
   "mimetype": "text/x-python",
   "name": "python",
   "nbconvert_exporter": "python",
   "pygments_lexer": "ipython3",
   "version": "3.8.8"
  },
  "varInspector": {
   "cols": {
    "lenName": 16,
    "lenType": 16,
    "lenVar": 40
   },
   "kernels_config": {
    "python": {
     "delete_cmd_postfix": "",
     "delete_cmd_prefix": "del ",
     "library": "var_list.py",
     "varRefreshCmd": "print(var_dic_list())"
    },
    "r": {
     "delete_cmd_postfix": ") ",
     "delete_cmd_prefix": "rm(",
     "library": "var_list.r",
     "varRefreshCmd": "cat(var_dic_list()) "
    }
   },
   "types_to_exclude": [
    "module",
    "function",
    "builtin_function_or_method",
    "instance",
    "_Feature"
   ],
   "window_display": false
  }
 },
 "nbformat": 4,
 "nbformat_minor": 4
}
