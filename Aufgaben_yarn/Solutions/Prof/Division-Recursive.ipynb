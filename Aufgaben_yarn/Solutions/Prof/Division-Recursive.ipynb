{
 "cells": [
  {
   "cell_type": "code",
   "execution_count": null,
   "metadata": {},
   "outputs": [],
   "source": [
    "from IPython.core.display import HTML\n",
    "with open('../style.css') as file:\n",
    "    css = file.read()\n",
    "HTML(css)"
   ]
  },
  {
   "cell_type": "markdown",
   "metadata": {},
   "source": [
    "# Euclidean Division"
   ]
  },
  {
   "cell_type": "markdown",
   "metadata": {},
   "source": [
    "The function `div_mod(m, n)` takes two natural numbers $m, n \\in \\mathbb{N}$ such that $n > 0$ \n",
    "and returns a pair $(q, r)$ where $q$ is the quotient of dividing $m$ by $n$, while $r$ is the remainder.\n",
    "Mathematically, $q$ and $r$ are defined as those number that satisfy the following conditions:\n",
    "  - $m = q \\cdot n + r$,\n",
    "  - $0 \\leq r < n$.\n",
    "  \n",
    "We define $m \\,\\texttt{/}\\texttt{/}\\, n := q$ and $m \\,\\texttt{%}\\, n := r$.  Then \n",
    "$m \\,\\texttt{/}\\texttt{/}\\, n$ is called the *quotient* of the division of $m$ by $n$\n",
    "and $m \\,\\texttt{%}\\, n$ is called the *remainder* of this division.\n",
    "\n",
    "Obviously, if $m < n$ we have that  $m \\,\\texttt{/}\\texttt{/}\\, n = 0$\n",
    "and $m \\,\\texttt{%}\\, n = m$.\n",
    "\n",
    "Otherwise, our goal is to compute $m \\,\\texttt{/}\\texttt{/}\\, n$ and \n",
    "$m \\,\\texttt{%}\\, n$ by reducing these values to \n",
    "the computation of $(m \\,\\texttt{/}\\texttt{/}\\, 2)\\,\\texttt{/}\\texttt{/}\\, n$ and \n",
    "$(m \\,\\texttt{/}\\texttt{/}\\,2) \\,\\texttt{%}\\, n$.  We have that\n",
    "$$ m \\,\\texttt{/}\\texttt{/}\\,2 = q_2 \\cdot n + r_2 \\quad\\mbox{where}\\quad 0\\leq r_2 < n. $$\n",
    "Then $q_2 = (m \\,\\texttt{/}\\texttt{/}\\,2) \\,\\texttt{/}\\texttt{/}\\, n$ and\n",
    "$r_2 = (m \\,\\texttt{/}\\texttt{/}\\,2) \\,\\texttt{%}\\, n$.\n",
    "Let us multiply this equation with 2 and add $m \\,\\texttt{%}\\, 2$ on both sides of it.  This yields:\n",
    "$$2 \\cdot (m \\,\\texttt{/}\\texttt{/}\\,2) + m \\,\\texttt{%}\\,2 = 2 \\cdot q_2 \\cdot n + 2 \\cdot r_2 + m \\,\\texttt{%}\\,2. $$\n",
    "We know that $2 \\cdot (m \\,\\texttt{/}\\texttt{/}\\,2) + m \\,\\texttt{%}\\,2 = m$ and \n",
    "therefore the last equation can be written as\n",
    "$$ m = 2 \\cdot q_2 \\cdot n + 2 \\cdot r_2 + m \\,\\texttt{%}\\,2. $$\n",
    "Now there are two cases: Either $2 \\cdot r_2 + m \\,\\texttt{%}\\,2 < n$ or \n",
    "$2 \\cdot r_2 + m \\,\\texttt{%}\\,2 \\geq  n$.\n",
    "1. Case: $2 \\cdot r_2 + m \\,\\texttt{%}\\,2 < n$:\n",
    "   Then we have that \n",
    "   $$ m \\,\\texttt{/}\\texttt{/}\\, n = 2 \\cdot q_2 \\quad \\mbox{and} \\quad\n",
    "      m \\,\\texttt{%}\\,n = 2 \\cdot r_2 + m \\,\\texttt{%}\\,2.\n",
    "   $$\n",
    "2. Case: $2 \\cdot r_2 + m \\,\\texttt{%}\\,2 \\geq n$:  In that case we have that \n",
    "   $2 \\cdot r_2 + m \\,\\texttt{%}\\,2 -n < n$ and we can rewrite the equation for $m$ as\n",
    "   $$ m = (2 \\cdot q_2 + 1) \\cdot n + 2 \\cdot r_2 + m \\,\\texttt{%}\\,2 - n. $$\n",
    "   Therefore we have\n",
    "   $$ m \\,\\texttt{/}\\texttt{/}\\, n = 2 \\cdot q_2 + 1 \\quad \\mbox{and} \\quad\n",
    "     m \\,\\texttt{%}\\,n = 2 \\cdot r_2 + m \\,\\texttt{%}\\,2 - n.\n",
    "   $$"
   ]
  },
  {
   "cell_type": "code",
   "execution_count": null,
   "metadata": {},
   "outputs": [],
   "source": [
    "def div_mod(m, n):\n",
    "    if m < n:\n",
    "        return 0, m\n",
    "    q, r = div_mod(m // 2, n)\n",
    "    if 2 * r + m % 2 < n:\n",
    "        return 2 * q, 2 * r + m % 2\n",
    "    else:\n",
    "        return 2 * q + 1, 2 * r + m % 2 - n"
   ]
  },
  {
   "cell_type": "markdown",
   "metadata": {},
   "source": [
    "In order to test our implementation we use random numbers."
   ]
  },
  {
   "cell_type": "code",
   "execution_count": null,
   "metadata": {},
   "outputs": [],
   "source": [
    "import random\n",
    "random.seed(0)"
   ]
  },
  {
   "cell_type": "markdown",
   "metadata": {},
   "source": [
    "The function `run_tests(no_tests)` generates `no_tests` pairs `(m, n)` and tests, whether \n",
    "`div_mod(a, b) == (a // b, a % b)` holds in each case."
   ]
  },
  {
   "cell_type": "code",
   "execution_count": null,
   "metadata": {},
   "outputs": [],
   "source": [
    "def run_tests(no_tests):\n",
    "    for i in range(no_tests):\n",
    "        m = random.randrange(0, 2 ** 32)\n",
    "        n = random.randrange(1, 2 ** 30)\n",
    "        q, r = div_mod(m, n)\n",
    "        assert m == q * n + r and 0 <= r < n"
   ]
  },
  {
   "cell_type": "code",
   "execution_count": null,
   "metadata": {},
   "outputs": [],
   "source": [
    "%%time\n",
    "run_tests(10**6)"
   ]
  },
  {
   "cell_type": "markdown",
   "metadata": {},
   "source": [
    "It seems strange to use the operators `//`and `%` when our real goal is to implement these operators.\n",
    "Since `m // 2`is the same as `m >> 1` and `m % 2` is the same as `m & 1`, \n",
    "the following implementation of `div_mod` is equivalent to the first implementation.\n",
    "I have also substituted `2 * q` by `q << 1`."
   ]
  },
  {
   "cell_type": "code",
   "execution_count": null,
   "metadata": {},
   "outputs": [],
   "source": [
    "def div_mod(m, n):\n",
    "    if m < n:\n",
    "        return (0, m)\n",
    "    q, r = div_mod(m >> 1, n)\n",
    "    if (r << 1) + (m & 1) < n:\n",
    "        return (q << 1), (r << 1) + (m & 1)\n",
    "    else:\n",
    "        return (q << 1) + 1, (r << 1) + (m & 1) - n"
   ]
  },
  {
   "cell_type": "code",
   "execution_count": null,
   "metadata": {},
   "outputs": [],
   "source": [
    "%%time\n",
    "run_tests(10**6)"
   ]
  },
  {
   "cell_type": "code",
   "execution_count": null,
   "metadata": {},
   "outputs": [],
   "source": []
  }
 ],
 "metadata": {
  "kernelspec": {
   "display_name": "Python 3",
   "language": "python",
   "name": "python3"
  },
  "language_info": {
   "codemirror_mode": {
    "name": "ipython",
    "version": 3
   },
   "file_extension": ".py",
   "mimetype": "text/x-python",
   "name": "python",
   "nbconvert_exporter": "python",
   "pygments_lexer": "ipython3",
   "version": "3.9.2"
  },
  "varInspector": {
   "cols": {
    "lenName": 16,
    "lenType": 16,
    "lenVar": 40
   },
   "kernels_config": {
    "python": {
     "delete_cmd_postfix": "",
     "delete_cmd_prefix": "del ",
     "library": "var_list.py",
     "varRefreshCmd": "print(var_dic_list())"
    },
    "r": {
     "delete_cmd_postfix": ") ",
     "delete_cmd_prefix": "rm(",
     "library": "var_list.r",
     "varRefreshCmd": "cat(var_dic_list()) "
    }
   },
   "types_to_exclude": [
    "module",
    "function",
    "builtin_function_or_method",
    "instance",
    "_Feature"
   ],
   "window_display": false
  }
 },
 "nbformat": 4,
 "nbformat_minor": 2
}
