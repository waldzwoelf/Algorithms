{
 "cells": [
  {
   "cell_type": "code",
   "execution_count": 1,
   "metadata": {},
   "outputs": [
    {
     "data": {
      "text/html": [
       "<link href='http://fonts.googleapis.com/css?family=Alegreya+Sans:100,300,400,500,700,800,900,100italic,300italic,400italic,500italic,700italic,800italic,900italic' rel='stylesheet' type='text/css'>\n",
       "<link href='http://fonts.googleapis.com/css?family=Arvo:400,700,400italic' rel='stylesheet' type='text/css'>\n",
       "<link href='http://fonts.googleapis.com/css?family=PT+Mono' rel='stylesheet' type='text/css'>\n",
       "<link href='http://fonts.googleapis.com/css?family=Shadows+Into+Light' rel='stylesheet' type='text/css'>\n",
       "<link href='http://fonts.googleapis.com/css?family=Philosopher:400,700,400italic,700italic' rel='stylesheet' type='text/css'>\n",
       "\n",
       "<style>\n",
       "\n",
       "@font-face {\n",
       "    font-family: \"Computer Modern\";\n",
       "    src: url('http://mirrors.ctan.org/fonts/cm-unicode/fonts/otf/cmunss.otf');\n",
       "}\n",
       "\n",
       ".container { width: 100% }\n",
       "\n",
       "/* Formatting for header cells */\n",
       ".text_cell_render h1 {\n",
       "    font-family: 'Philosopher', sans-serif;\n",
       "    font-weight: 400;\n",
       "    font-size: 2.2em;\n",
       "    line-height: 100%;\n",
       "    color: rgb(0, 80, 120);\n",
       "    margin-bottom: 0.1em;\n",
       "    margin-top: 0.1em;\n",
       "    display: block;\n",
       "}\t\n",
       ".text_cell_render h2 {\n",
       "    font-family: 'Philosopher', serif;\n",
       "    font-weight: 400;\n",
       "    font-size: 1.9em;\n",
       "    line-height: 100%;\n",
       "    color: rgb(200,100,0);\n",
       "    margin-bottom: 0.1em;\n",
       "    margin-top: 0.1em;\n",
       "    display: block;\n",
       "}\t\n",
       "\n",
       ".text_cell_render h3 {\n",
       "    font-family: 'Philosopher', serif;\n",
       "    margin-top:12px;\n",
       "    margin-bottom: 3px;\n",
       "    font-style: italic;\n",
       "    color: rgb(94,127,192);\n",
       "}\n",
       "\n",
       ".text_cell_render h4 {\n",
       "    font-family: 'Philosopher', serif;\n",
       "}\n",
       "\n",
       ".text_cell_render h5 {\n",
       "    font-family: 'Alegreya Sans', sans-serif;\n",
       "    font-weight: 300;\n",
       "    font-size: 16pt;\n",
       "    color: grey;\n",
       "    font-style: italic;\n",
       "    margin-bottom: .1em;\n",
       "    margin-top: 0.1em;\n",
       "    display: block;\n",
       "}\n",
       "\n",
       ".text_cell_render h6 {\n",
       "    font-family: 'PT Mono', sans-serif;\n",
       "    font-weight: 300;\n",
       "    font-size: 10pt;\n",
       "    color: grey;\n",
       "    margin-bottom: 1px;\n",
       "    margin-top: 1px;\n",
       "}\n",
       "\n",
       ".text_cell_render em {\n",
       "    font-family: 'Philosopher', sans-serif;\n",
       "    color:        blue;\n",
       "    background-color: rgb(255,220,180);\n",
       "    font-size:    110%;\n",
       "    margin-left:   2px;\n",
       "    margin-right:  2px;\n",
       "    font-weight:   100;\n",
       "}\n",
       "\n",
       ".text_cell_render b {\n",
       "    color:            rgb(255,195,195);\n",
       "    background-color: rgb(0,0,0);\n",
       "    font-size:    110%;\n",
       "    margin-left:   2px;\n",
       "    margin-right:  2px;\n",
       "    font-weight:   650;\n",
       "}\n",
       "\n",
       ".text_cell_render tt {\n",
       "    font-size:    120%;\n",
       "    margin-left:   2px;\n",
       "    margin-right:  2px;\n",
       "    font-weight:   150;\n",
       "}\n",
       "\n",
       ".Codemirror {\n",
       "    font-family: \"PT Mono\";\n",
       "    font-size: 100%;\n",
       "}\n",
       "\n",
       "</style>\n",
       "\n"
      ],
      "text/plain": [
       "<IPython.core.display.HTML object>"
      ]
     },
     "execution_count": 1,
     "metadata": {},
     "output_type": "execute_result"
    }
   ],
   "source": [
    "from IPython.core.display import HTML\n",
    "with open('../style.css') as file:\n",
    "    css = file.read()\n",
    "HTML(css)"
   ]
  },
  {
   "cell_type": "markdown",
   "metadata": {},
   "source": [
    "# The Fibonacci Numbers"
   ]
  },
  {
   "cell_type": "markdown",
   "metadata": {},
   "source": [
    "The [Fibonacci numbers](https://en.wikipedia.org/wiki/Fibonacci_number) $F_n$ are defined by induction for all $n\\in\\mathbb{N}$:\n",
    "  - $F_0 := 0$,\n",
    "  - $F_1 := 1$, \n",
    "  - $F_{n+2} = F_{n+1} + F_n$ for all $n \\in \\mathbb{N}$.\n",
    "\n",
    "Given a natural number `n`, the function `fibonacci(n)` computes the number $F_n$."
   ]
  },
  {
   "cell_type": "code",
   "execution_count": 2,
   "metadata": {},
   "outputs": [],
   "source": [
    "def fibonacci(n):\n",
    "    if n <= 1:\n",
    "        return n\n",
    "    return fibonacci(n-1) + fibonacci(n-2)"
   ]
  },
  {
   "cell_type": "code",
   "execution_count": 3,
   "metadata": {},
   "outputs": [
    {
     "data": {
      "text/plain": [
       "[(0, 0),\n",
       " (1, 1),\n",
       " (2, 1),\n",
       " (3, 2),\n",
       " (4, 3),\n",
       " (5, 5),\n",
       " (6, 8),\n",
       " (7, 13),\n",
       " (8, 21),\n",
       " (9, 34),\n",
       " (10, 55),\n",
       " (11, 89),\n",
       " (12, 144),\n",
       " (13, 233),\n",
       " (14, 377),\n",
       " (15, 610),\n",
       " (16, 987),\n",
       " (17, 1597),\n",
       " (18, 2584)]"
      ]
     },
     "execution_count": 3,
     "metadata": {},
     "output_type": "execute_result"
    }
   ],
   "source": [
    "[ (n,fibonacci(n)) for n in range(19) ]"
   ]
  },
  {
   "cell_type": "markdown",
   "metadata": {},
   "source": [
    "It seems that the *Fibonacci numbers* grow pretty fast. Let us plot these numbers to get a better understanding of their growth."
   ]
  },
  {
   "cell_type": "code",
   "execution_count": 4,
   "metadata": {},
   "outputs": [],
   "source": [
    "import matplotlib.pyplot as plt\n",
    "import seaborn           as sns"
   ]
  },
  {
   "cell_type": "code",
   "execution_count": 5,
   "metadata": {},
   "outputs": [
    {
     "data": {
      "image/png": "[encoded data removed]",
      "text/plain": [
       "<Figure size 1080x720 with 1 Axes>"
      ]
     },
     "metadata": {},
     "output_type": "display_data"
    }
   ],
   "source": [
    "m = 34\n",
    "X = []\n",
    "Y = []\n",
    "for n in range(m):\n",
    "    X.append(n)\n",
    "    Y.append(fibonacci(n))\n",
    "sns.set_style('darkgrid')\n",
    "plt.figure(figsize=(15, 10))\n",
    "plt.plot(X, Y, 'bo')\n",
    "plt.xticks(X)\n",
    "plt.yticks([y * 2e5 for y in range(19)])\n",
    "plt.xlabel('n')\n",
    "plt.ylabel('F(n)')\n",
    "plt.title('The Fibonacci Numbers')\n",
    "plt.show()"
   ]
  },
  {
   "cell_type": "markdown",
   "metadata": {},
   "source": [
    "It looks like the *Fibonacci numbers* grow exponentially.  Let us confirm this hypothesis by plotting the logarithm of these numbers."
   ]
  },
  {
   "cell_type": "code",
   "execution_count": 6,
   "metadata": {},
   "outputs": [],
   "source": [
    "import math"
   ]
  },
  {
   "cell_type": "code",
   "execution_count": 7,
   "metadata": {},
   "outputs": [
    {
     "data": {
      "image/png": "[encoded data removed]",
      "text/plain": [
       "<Figure size 1080x720 with 1 Axes>"
      ]
     },
     "metadata": {},
     "output_type": "display_data"
    }
   ],
   "source": [
    "X = X[1:]\n",
    "Y = Y[1:]\n",
    "logY = [math.log(y) for y in Y]\n",
    "sns.set_style('darkgrid')\n",
    "plt.figure(figsize=(15, 10))\n",
    "plt.plot(X, logY, 'bo') \n",
    "plt.xticks(X)\n",
    "plt.yticks(list(range(17)))\n",
    "plt.xlabel('n')\n",
    "plt.ylabel('ln(F(n))')\n",
    "plt.title('The Logarithms of the Fibonacci Numbers')\n",
    "plt.show()"
   ]
  },
  {
   "cell_type": "markdown",
   "metadata": {},
   "source": [
    "This plot looks linear and confirms our hypothesis that these numbers grow exponentially."
   ]
  },
  {
   "cell_type": "markdown",
   "metadata": {},
   "source": [
    "Computing the *Fibonacci numbers* took quite long.  Lets measure these times and plot them."
   ]
  },
  {
   "cell_type": "code",
   "execution_count": 8,
   "metadata": {},
   "outputs": [],
   "source": [
    "import time"
   ]
  },
  {
   "cell_type": "code",
   "execution_count": 9,
   "metadata": {
    "scrolled": false
   },
   "outputs": [
    {
     "name": "stdout",
     "output_type": "stream",
     "text": [
      "fib(0) = 0\n",
      "0.0\n",
      "fib(1) = 1\n",
      "0.0\n",
      "fib(2) = 1\n",
      "0.0\n",
      "fib(3) = 2\n",
      "0.0\n",
      "fib(4) = 3\n",
      "0.0\n",
      "fib(5) = 5\n",
      "0.0\n",
      "fib(6) = 8\n",
      "0.0009999275207519531\n",
      "fib(7) = 13\n",
      "0.0\n",
      "fib(8) = 21\n",
      "0.0\n",
      "fib(9) = 34\n",
      "0.0\n",
      "fib(10) = 55\n",
      "0.0\n",
      "fib(11) = 89\n",
      "0.0\n",
      "fib(12) = 144\n",
      "0.0\n",
      "fib(13) = 233\n",
      "0.0\n",
      "fib(14) = 377\n",
      "0.0\n",
      "fib(15) = 610\n",
      "0.001001119613647461\n",
      "fib(16) = 987\n",
      "0.0\n",
      "fib(17) = 1597\n",
      "0.0009989738464355469\n",
      "fib(18) = 2584\n",
      "0.0009996891021728516\n",
      "fib(19) = 4181\n",
      "0.002001047134399414\n",
      "fib(20) = 6765\n",
      "0.004998922348022461\n",
      "fib(21) = 10946\n",
      "0.004000425338745117\n",
      "fib(22) = 17711\n",
      "0.007002115249633789\n",
      "fib(23) = 28657\n",
      "0.00999760627746582\n",
      "fib(24) = 46368\n",
      "0.012999534606933594\n",
      "fib(25) = 75025\n",
      "0.01999974250793457\n",
      "fib(26) = 121393\n",
      "0.03200054168701172\n",
      "fib(27) = 196418\n",
      "0.05100083351135254\n",
      "fib(28) = 317811\n",
      "0.08315658569335938\n",
      "fib(29) = 514229\n",
      "0.13199949264526367\n",
      "fib(30) = 832040\n",
      "0.21300005912780762\n",
      "fib(31) = 1346269\n",
      "0.34657907485961914\n",
      "fib(32) = 2178309\n",
      "0.5619521141052246\n",
      "fib(33) = 3524578\n",
      "0.9004631042480469\n",
      "fib(34) = 5702887\n",
      "1.4470837116241455\n",
      "fib(35) = 9227465\n",
      "2.3188648223876953\n"
     ]
    },
    {
     "data": {
      "image/png": "[encoded data removed]",
      "text/plain": [
       "<Figure size 1080x720 with 1 Axes>"
      ]
     },
     "metadata": {},
     "output_type": "display_data"
    }
   ],
   "source": [
    "m = 36\n",
    "Y = []\n",
    "X = list(range(m))\n",
    "for n in range(m):\n",
    "    start = time.time()\n",
    "    print(f'fib({n}) = {fibonacci(n)}')\n",
    "    stop  = time.time()\n",
    "    print(stop - start)\n",
    "    Y.append(stop - start)\n",
    "    \n",
    "sns.set_style('darkgrid')\n",
    "plt.figure(figsize=(15, 10))\n",
    "plt.plot(X, Y, 'bo') \n",
    "plt.xticks(X)\n",
    "plt.xlabel('n')\n",
    "plt.ylabel('time in seconds')\n",
    "plt.title('Time to Compute the Fibonacci Numbers')\n",
    "plt.show()"
   ]
  },
  {
   "cell_type": "markdown",
   "metadata": {},
   "source": [
    "The times seem to grow exponentially.  "
   ]
  },
  {
   "cell_type": "code",
   "execution_count": 10,
   "metadata": {},
   "outputs": [
    {
     "data": {
      "image/png": "[encoded data removed]",
      "text/plain": [
       "<Figure size 1080x720 with 1 Axes>"
      ]
     },
     "metadata": {},
     "output_type": "display_data"
    }
   ],
   "source": [
    "m = 36\n",
    "Y = []\n",
    "X = list(range(20, m))\n",
    "for n in X:\n",
    "    start = time.time()\n",
    "    fibonacci(n)\n",
    "    stop  = time.time()\n",
    "    Y.append(math.log(stop - start))\n",
    "    \n",
    "sns.set_style('darkgrid')\n",
    "plt.figure(figsize=(15, 10))\n",
    "plt.plot(X, Y, 'bo') \n",
    "plt.xticks(X)\n",
    "plt.xlabel('n')\n",
    "plt.ylabel('time in seconds')\n",
    "plt.title('Logarithm of the Time to Compute the Fibonacci Numbers')\n",
    "plt.show()"
   ]
  },
  {
   "cell_type": "markdown",
   "metadata": {},
   "source": [
    "The logarithmic plot confirms this.  In order to investigate the reason for this exponential growth, we compute the *computation tree*.  This tree shows the recursive invocations of the function."
   ]
  },
  {
   "cell_type": "code",
   "execution_count": 11,
   "metadata": {},
   "outputs": [],
   "source": [
    "import graphviz as gv"
   ]
  },
  {
   "cell_type": "code",
   "execution_count": 12,
   "metadata": {},
   "outputs": [],
   "source": [
    "class ComputationTree:\n",
    "    def __init__(self, arg, value, left=None, right=None):\n",
    "        self.mArg   = arg\n",
    "        self.mValue = value\n",
    "        self.mLeft  = left\n",
    "        self.mRight = right"
   ]
  },
  {
   "cell_type": "code",
   "execution_count": 13,
   "metadata": {},
   "outputs": [],
   "source": [
    "def isLeaf(self):\n",
    "    return self.mLeft == None and self.mRight == None\n",
    "\n",
    "ComputationTree.isLeaf = isLeaf\n",
    "del isLeaf"
   ]
  },
  {
   "cell_type": "code",
   "execution_count": 14,
   "metadata": {},
   "outputs": [],
   "source": [
    "def toDot(self):\n",
    "    ComputationTree.sCounter = 0 # static variable of the class ComputationTree\n",
    "    dot = gv.Digraph(node_attr={'shape': 'record', 'style': 'rounded'})\n",
    "    NodeDict = {}\n",
    "    self._assignIDs(NodeDict)\n",
    "    for n, t in NodeDict.items():\n",
    "        dot.node(str(n), label='{' + str(t.mArg) + '|' + str(t.mValue) + '}')\n",
    "        if t.mLeft != None and t.mRight != None:\n",
    "            dot.edge(str(n), str(t.mLeft .mID))\n",
    "            dot.edge(str(n), str(t.mRight.mID))\n",
    "    return dot\n",
    "\n",
    "ComputationTree.toDot = toDot\n",
    "del toDot"
   ]
  },
  {
   "cell_type": "code",
   "execution_count": 15,
   "metadata": {},
   "outputs": [],
   "source": [
    "def _assignIDs(self, NodeDict):\n",
    "    ComputationTree.sCounter += 1\n",
    "    self.mID = ComputationTree.sCounter\n",
    "    NodeDict[self.mID] = self\n",
    "    if self.isLeaf():\n",
    "        return\n",
    "    self.mLeft ._assignIDs(NodeDict)\n",
    "    self.mRight._assignIDs(NodeDict)\n",
    "    \n",
    "ComputationTree._assignIDs = _assignIDs\n",
    "del _assignIDs"
   ]
  },
  {
   "cell_type": "code",
   "execution_count": 16,
   "metadata": {},
   "outputs": [],
   "source": [
    "def fibonacci_tree(n):\n",
    "    if n <= 1:\n",
    "        return ComputationTree(n, n)\n",
    "    C1 = fibonacci_tree(n-1)\n",
    "    C2 = fibonacci_tree(n-2)\n",
    "    return ComputationTree(n, C1.mValue + C2.mValue, C1, C2)"
   ]
  },
  {
   "cell_type": "code",
   "execution_count": 17,
   "metadata": {},
   "outputs": [
    {
     "data": {
      "image/svg+xml": [
       "<?xml version=\"1.0\" encoding=\"UTF-8\" standalone=\"no\"?>\r\n",
       "<!DOCTYPE svg PUBLIC \"-//W3C//DTD SVG 1.1//EN\"\r\n",
       " \"http://www.w3.org/Graphics/SVG/1.1/DTD/svg11.dtd\">\r\n",
       "<!-- Generated by graphviz version 2.38.0 (20140413.2041)\r\n",
       " -->\r\n",
       "<!-- Title: %3 Pages: 1 -->\r\n",
       "<svg width=\"746pt\" height=\"470pt\"\r\n",
       " viewBox=\"0.00 0.00 746.00 470.00\" xmlns=\"http://www.w3.org/2000/svg\" xmlns:xlink=\"http://www.w3.org/1999/xlink\">\r\n",
       "<g id=\"graph0\" class=\"graph\" transform=\"scale(1 1) rotate(0) translate(4 466)\">\r\n",
       "<title>%3</title>\r\n",
       "<polygon fill=\"white\" stroke=\"none\" points=\"-4,4 -4,-466 742,-466 742,4 -4,4\"/>\r\n",
       "<!-- 1 -->\r\n",
       "<g id=\"node1\" class=\"node\"><title>1</title>\r\n",
       "<path fill=\"none\" stroke=\"black\" d=\"M444,-415.5C444,-415.5 474,-415.5 474,-415.5 480,-415.5 486,-421.5 486,-427.5 486,-427.5 486,-449.5 486,-449.5 486,-455.5 480,-461.5 474,-461.5 474,-461.5 444,-461.5 444,-461.5 438,-461.5 432,-455.5 432,-449.5 432,-449.5 432,-427.5 432,-427.5 432,-421.5 438,-415.5 444,-415.5\"/>\r\n",
       "<text text-anchor=\"middle\" x=\"459\" y=\"-446.3\" font-family=\"Times New Roman,serif\" font-size=\"14.00\">6</text>\r\n",
       "<polyline fill=\"none\" stroke=\"black\" points=\"432,-438.5 486,-438.5 \"/>\r\n",
       "<text text-anchor=\"middle\" x=\"459\" y=\"-423.3\" font-family=\"Times New Roman,serif\" font-size=\"14.00\">8</text>\r\n",
       "</g>\r\n",
       "<!-- 2 -->\r\n",
       "<g id=\"node2\" class=\"node\"><title>2</title>\r\n",
       "<path fill=\"none\" stroke=\"black\" d=\"M372,-332.5C372,-332.5 402,-332.5 402,-332.5 408,-332.5 414,-338.5 414,-344.5 414,-344.5 414,-366.5 414,-366.5 414,-372.5 408,-378.5 402,-378.5 402,-378.5 372,-378.5 372,-378.5 366,-378.5 360,-372.5 360,-366.5 360,-366.5 360,-344.5 360,-344.5 360,-338.5 366,-332.5 372,-332.5\"/>\r\n",
       "<text text-anchor=\"middle\" x=\"387\" y=\"-363.3\" font-family=\"Times New Roman,serif\" font-size=\"14.00\">5</text>\r\n",
       "<polyline fill=\"none\" stroke=\"black\" points=\"360,-355.5 414,-355.5 \"/>\r\n",
       "<text text-anchor=\"middle\" x=\"387\" y=\"-340.3\" font-family=\"Times New Roman,serif\" font-size=\"14.00\">5</text>\r\n",
       "</g>\r\n",
       "<!-- 1&#45;&gt;2 -->\r\n",
       "<g id=\"edge1\" class=\"edge\"><title>1&#45;&gt;2</title>\r\n",
       "<path fill=\"none\" stroke=\"black\" d=\"M439.326,-415.366C431.309,-406.348 421.923,-395.788 413.33,-386.121\"/>\r\n",
       "<polygon fill=\"black\" stroke=\"black\" points=\"415.91,-383.756 406.651,-378.607 410.678,-388.406 415.91,-383.756\"/>\r\n",
       "</g>\r\n",
       "<!-- 17 -->\r\n",
       "<g id=\"node3\" class=\"node\"><title>17</title>\r\n",
       "<path fill=\"none\" stroke=\"black\" d=\"M516,-332.5C516,-332.5 546,-332.5 546,-332.5 552,-332.5 558,-338.5 558,-344.5 558,-344.5 558,-366.5 558,-366.5 558,-372.5 552,-378.5 546,-378.5 546,-378.5 516,-378.5 516,-378.5 510,-378.5 504,-372.5 504,-366.5 504,-366.5 504,-344.5 504,-344.5 504,-338.5 510,-332.5 516,-332.5\"/>\r\n",
       "<text text-anchor=\"middle\" x=\"531\" y=\"-363.3\" font-family=\"Times New Roman,serif\" font-size=\"14.00\">4</text>\r\n",
       "<polyline fill=\"none\" stroke=\"black\" points=\"504,-355.5 558,-355.5 \"/>\r\n",
       "<text text-anchor=\"middle\" x=\"531\" y=\"-340.3\" font-family=\"Times New Roman,serif\" font-size=\"14.00\">3</text>\r\n",
       "</g>\r\n",
       "<!-- 1&#45;&gt;17 -->\r\n",
       "<g id=\"edge2\" class=\"edge\"><title>1&#45;&gt;17</title>\r\n",
       "<path fill=\"none\" stroke=\"black\" d=\"M478.674,-415.366C486.691,-406.348 496.077,-395.788 504.67,-386.121\"/>\r\n",
       "<polygon fill=\"black\" stroke=\"black\" points=\"507.322,-388.406 511.349,-378.607 502.09,-383.756 507.322,-388.406\"/>\r\n",
       "</g>\r\n",
       "<!-- 3 -->\r\n",
       "<g id=\"node4\" class=\"node\"><title>3</title>\r\n",
       "<path fill=\"none\" stroke=\"black\" d=\"M228,-249.5C228,-249.5 258,-249.5 258,-249.5 264,-249.5 270,-255.5 270,-261.5 270,-261.5 270,-283.5 270,-283.5 270,-289.5 264,-295.5 258,-295.5 258,-295.5 228,-295.5 228,-295.5 222,-295.5 216,-289.5 216,-283.5 216,-283.5 216,-261.5 216,-261.5 216,-255.5 222,-249.5 228,-249.5\"/>\r\n",
       "<text text-anchor=\"middle\" x=\"243\" y=\"-280.3\" font-family=\"Times New Roman,serif\" font-size=\"14.00\">4</text>\r\n",
       "<polyline fill=\"none\" stroke=\"black\" points=\"216,-272.5 270,-272.5 \"/>\r\n",
       "<text text-anchor=\"middle\" x=\"243\" y=\"-257.3\" font-family=\"Times New Roman,serif\" font-size=\"14.00\">3</text>\r\n",
       "</g>\r\n",
       "<!-- 2&#45;&gt;3 -->\r\n",
       "<g id=\"edge3\" class=\"edge\"><title>2&#45;&gt;3</title>\r\n",
       "<path fill=\"none\" stroke=\"black\" d=\"M359.915,-339.265C337.131,-326.449 304.356,-308.013 279.302,-293.92\"/>\r\n",
       "<polygon fill=\"black\" stroke=\"black\" points=\"280.885,-290.795 270.453,-288.943 277.453,-296.896 280.885,-290.795\"/>\r\n",
       "</g>\r\n",
       "<!-- 12 -->\r\n",
       "<g id=\"node5\" class=\"node\"><title>12</title>\r\n",
       "<path fill=\"none\" stroke=\"black\" d=\"M372,-249.5C372,-249.5 402,-249.5 402,-249.5 408,-249.5 414,-255.5 414,-261.5 414,-261.5 414,-283.5 414,-283.5 414,-289.5 408,-295.5 402,-295.5 402,-295.5 372,-295.5 372,-295.5 366,-295.5 360,-289.5 360,-283.5 360,-283.5 360,-261.5 360,-261.5 360,-255.5 366,-249.5 372,-249.5\"/>\r\n",
       "<text text-anchor=\"middle\" x=\"387\" y=\"-280.3\" font-family=\"Times New Roman,serif\" font-size=\"14.00\">3</text>\r\n",
       "<polyline fill=\"none\" stroke=\"black\" points=\"360,-272.5 414,-272.5 \"/>\r\n",
       "<text text-anchor=\"middle\" x=\"387\" y=\"-257.3\" font-family=\"Times New Roman,serif\" font-size=\"14.00\">2</text>\r\n",
       "</g>\r\n",
       "<!-- 2&#45;&gt;12 -->\r\n",
       "<g id=\"edge4\" class=\"edge\"><title>2&#45;&gt;12</title>\r\n",
       "<path fill=\"none\" stroke=\"black\" d=\"M387,-332.366C387,-324.152 387,-314.658 387,-305.725\"/>\r\n",
       "<polygon fill=\"black\" stroke=\"black\" points=\"390.5,-305.607 387,-295.607 383.5,-305.607 390.5,-305.607\"/>\r\n",
       "</g>\r\n",
       "<!-- 18 -->\r\n",
       "<g id=\"node18\" class=\"node\"><title>18</title>\r\n",
       "<path fill=\"none\" stroke=\"black\" d=\"M516,-249.5C516,-249.5 546,-249.5 546,-249.5 552,-249.5 558,-255.5 558,-261.5 558,-261.5 558,-283.5 558,-283.5 558,-289.5 552,-295.5 546,-295.5 546,-295.5 516,-295.5 516,-295.5 510,-295.5 504,-289.5 504,-283.5 504,-283.5 504,-261.5 504,-261.5 504,-255.5 510,-249.5 516,-249.5\"/>\r\n",
       "<text text-anchor=\"middle\" x=\"531\" y=\"-280.3\" font-family=\"Times New Roman,serif\" font-size=\"14.00\">3</text>\r\n",
       "<polyline fill=\"none\" stroke=\"black\" points=\"504,-272.5 558,-272.5 \"/>\r\n",
       "<text text-anchor=\"middle\" x=\"531\" y=\"-257.3\" font-family=\"Times New Roman,serif\" font-size=\"14.00\">2</text>\r\n",
       "</g>\r\n",
       "<!-- 17&#45;&gt;18 -->\r\n",
       "<g id=\"edge17\" class=\"edge\"><title>17&#45;&gt;18</title>\r\n",
       "<path fill=\"none\" stroke=\"black\" d=\"M531,-332.366C531,-324.152 531,-314.658 531,-305.725\"/>\r\n",
       "<polygon fill=\"black\" stroke=\"black\" points=\"534.5,-305.607 531,-295.607 527.5,-305.607 534.5,-305.607\"/>\r\n",
       "</g>\r\n",
       "<!-- 23 -->\r\n",
       "<g id=\"node19\" class=\"node\"><title>23</title>\r\n",
       "<path fill=\"none\" stroke=\"black\" d=\"M624,-249.5C624,-249.5 654,-249.5 654,-249.5 660,-249.5 666,-255.5 666,-261.5 666,-261.5 666,-283.5 666,-283.5 666,-289.5 660,-295.5 654,-295.5 654,-295.5 624,-295.5 624,-295.5 618,-295.5 612,-289.5 612,-283.5 612,-283.5 612,-261.5 612,-261.5 612,-255.5 618,-249.5 624,-249.5\"/>\r\n",
       "<text text-anchor=\"middle\" x=\"639\" y=\"-280.3\" font-family=\"Times New Roman,serif\" font-size=\"14.00\">2</text>\r\n",
       "<polyline fill=\"none\" stroke=\"black\" points=\"612,-272.5 666,-272.5 \"/>\r\n",
       "<text text-anchor=\"middle\" x=\"639\" y=\"-257.3\" font-family=\"Times New Roman,serif\" font-size=\"14.00\">1</text>\r\n",
       "</g>\r\n",
       "<!-- 17&#45;&gt;23 -->\r\n",
       "<g id=\"edge18\" class=\"edge\"><title>17&#45;&gt;23</title>\r\n",
       "<path fill=\"none\" stroke=\"black\" d=\"M558.253,-334.06C571.939,-323.796 588.691,-311.231 603.383,-300.213\"/>\r\n",
       "<polygon fill=\"black\" stroke=\"black\" points=\"605.856,-302.733 611.756,-293.933 601.656,-297.133 605.856,-302.733\"/>\r\n",
       "</g>\r\n",
       "<!-- 4 -->\r\n",
       "<g id=\"node6\" class=\"node\"><title>4</title>\r\n",
       "<path fill=\"none\" stroke=\"black\" d=\"M120,-166.5C120,-166.5 150,-166.5 150,-166.5 156,-166.5 162,-172.5 162,-178.5 162,-178.5 162,-200.5 162,-200.5 162,-206.5 156,-212.5 150,-212.5 150,-212.5 120,-212.5 120,-212.5 114,-212.5 108,-206.5 108,-200.5 108,-200.5 108,-178.5 108,-178.5 108,-172.5 114,-166.5 120,-166.5\"/>\r\n",
       "<text text-anchor=\"middle\" x=\"135\" y=\"-197.3\" font-family=\"Times New Roman,serif\" font-size=\"14.00\">3</text>\r\n",
       "<polyline fill=\"none\" stroke=\"black\" points=\"108,-189.5 162,-189.5 \"/>\r\n",
       "<text text-anchor=\"middle\" x=\"135\" y=\"-174.3\" font-family=\"Times New Roman,serif\" font-size=\"14.00\">2</text>\r\n",
       "</g>\r\n",
       "<!-- 3&#45;&gt;4 -->\r\n",
       "<g id=\"edge5\" class=\"edge\"><title>3&#45;&gt;4</title>\r\n",
       "<path fill=\"none\" stroke=\"black\" d=\"M215.747,-251.06C202.061,-240.796 185.309,-228.231 170.617,-217.213\"/>\r\n",
       "<polygon fill=\"black\" stroke=\"black\" points=\"172.344,-214.133 162.244,-210.933 168.144,-219.733 172.344,-214.133\"/>\r\n",
       "</g>\r\n",
       "<!-- 9 -->\r\n",
       "<g id=\"node7\" class=\"node\"><title>9</title>\r\n",
       "<path fill=\"none\" stroke=\"black\" d=\"M228,-166.5C228,-166.5 258,-166.5 258,-166.5 264,-166.5 270,-172.5 270,-178.5 270,-178.5 270,-200.5 270,-200.5 270,-206.5 264,-212.5 258,-212.5 258,-212.5 228,-212.5 228,-212.5 222,-212.5 216,-206.5 216,-200.5 216,-200.5 216,-178.5 216,-178.5 216,-172.5 222,-166.5 228,-166.5\"/>\r\n",
       "<text text-anchor=\"middle\" x=\"243\" y=\"-197.3\" font-family=\"Times New Roman,serif\" font-size=\"14.00\">2</text>\r\n",
       "<polyline fill=\"none\" stroke=\"black\" points=\"216,-189.5 270,-189.5 \"/>\r\n",
       "<text text-anchor=\"middle\" x=\"243\" y=\"-174.3\" font-family=\"Times New Roman,serif\" font-size=\"14.00\">1</text>\r\n",
       "</g>\r\n",
       "<!-- 3&#45;&gt;9 -->\r\n",
       "<g id=\"edge6\" class=\"edge\"><title>3&#45;&gt;9</title>\r\n",
       "<path fill=\"none\" stroke=\"black\" d=\"M243,-249.366C243,-241.152 243,-231.658 243,-222.725\"/>\r\n",
       "<polygon fill=\"black\" stroke=\"black\" points=\"246.5,-222.607 243,-212.607 239.5,-222.607 246.5,-222.607\"/>\r\n",
       "</g>\r\n",
       "<!-- 13 -->\r\n",
       "<g id=\"node14\" class=\"node\"><title>13</title>\r\n",
       "<path fill=\"none\" stroke=\"black\" d=\"M336,-166.5C336,-166.5 366,-166.5 366,-166.5 372,-166.5 378,-172.5 378,-178.5 378,-178.5 378,-200.5 378,-200.5 378,-206.5 372,-212.5 366,-212.5 366,-212.5 336,-212.5 336,-212.5 330,-212.5 324,-206.5 324,-200.5 324,-200.5 324,-178.5 324,-178.5 324,-172.5 330,-166.5 336,-166.5\"/>\r\n",
       "<text text-anchor=\"middle\" x=\"351\" y=\"-197.3\" font-family=\"Times New Roman,serif\" font-size=\"14.00\">2</text>\r\n",
       "<polyline fill=\"none\" stroke=\"black\" points=\"324,-189.5 378,-189.5 \"/>\r\n",
       "<text text-anchor=\"middle\" x=\"351\" y=\"-174.3\" font-family=\"Times New Roman,serif\" font-size=\"14.00\">1</text>\r\n",
       "</g>\r\n",
       "<!-- 12&#45;&gt;13 -->\r\n",
       "<g id=\"edge13\" class=\"edge\"><title>12&#45;&gt;13</title>\r\n",
       "<path fill=\"none\" stroke=\"black\" d=\"M377.163,-249.366C373.393,-240.884 369.017,-231.037 364.935,-221.853\"/>\r\n",
       "<polygon fill=\"black\" stroke=\"black\" points=\"368.085,-220.323 360.825,-212.607 361.688,-223.166 368.085,-220.323\"/>\r\n",
       "</g>\r\n",
       "<!-- 16 -->\r\n",
       "<g id=\"node15\" class=\"node\"><title>16</title>\r\n",
       "<path fill=\"none\" stroke=\"black\" d=\"M408,-166.5C408,-166.5 438,-166.5 438,-166.5 444,-166.5 450,-172.5 450,-178.5 450,-178.5 450,-200.5 450,-200.5 450,-206.5 444,-212.5 438,-212.5 438,-212.5 408,-212.5 408,-212.5 402,-212.5 396,-206.5 396,-200.5 396,-200.5 396,-178.5 396,-178.5 396,-172.5 402,-166.5 408,-166.5\"/>\r\n",
       "<text text-anchor=\"middle\" x=\"423\" y=\"-197.3\" font-family=\"Times New Roman,serif\" font-size=\"14.00\">1</text>\r\n",
       "<polyline fill=\"none\" stroke=\"black\" points=\"396,-189.5 450,-189.5 \"/>\r\n",
       "<text text-anchor=\"middle\" x=\"423\" y=\"-174.3\" font-family=\"Times New Roman,serif\" font-size=\"14.00\">1</text>\r\n",
       "</g>\r\n",
       "<!-- 12&#45;&gt;16 -->\r\n",
       "<g id=\"edge14\" class=\"edge\"><title>12&#45;&gt;16</title>\r\n",
       "<path fill=\"none\" stroke=\"black\" d=\"M396.837,-249.366C400.607,-240.884 404.983,-231.037 409.065,-221.853\"/>\r\n",
       "<polygon fill=\"black\" stroke=\"black\" points=\"412.312,-223.166 413.175,-212.607 405.915,-220.323 412.312,-223.166\"/>\r\n",
       "</g>\r\n",
       "<!-- 5 -->\r\n",
       "<g id=\"node8\" class=\"node\"><title>5</title>\r\n",
       "<path fill=\"none\" stroke=\"black\" d=\"M48,-83.5C48,-83.5 78,-83.5 78,-83.5 84,-83.5 90,-89.5 90,-95.5 90,-95.5 90,-117.5 90,-117.5 90,-123.5 84,-129.5 78,-129.5 78,-129.5 48,-129.5 48,-129.5 42,-129.5 36,-123.5 36,-117.5 36,-117.5 36,-95.5 36,-95.5 36,-89.5 42,-83.5 48,-83.5\"/>\r\n",
       "<text text-anchor=\"middle\" x=\"63\" y=\"-114.3\" font-family=\"Times New Roman,serif\" font-size=\"14.00\">2</text>\r\n",
       "<polyline fill=\"none\" stroke=\"black\" points=\"36,-106.5 90,-106.5 \"/>\r\n",
       "<text text-anchor=\"middle\" x=\"63\" y=\"-91.3\" font-family=\"Times New Roman,serif\" font-size=\"14.00\">1</text>\r\n",
       "</g>\r\n",
       "<!-- 4&#45;&gt;5 -->\r\n",
       "<g id=\"edge7\" class=\"edge\"><title>4&#45;&gt;5</title>\r\n",
       "<path fill=\"none\" stroke=\"black\" d=\"M115.326,-166.366C107.309,-157.348 97.9228,-146.788 89.3302,-137.121\"/>\r\n",
       "<polygon fill=\"black\" stroke=\"black\" points=\"91.9101,-134.756 82.6505,-129.607 86.6783,-139.406 91.9101,-134.756\"/>\r\n",
       "</g>\r\n",
       "<!-- 8 -->\r\n",
       "<g id=\"node9\" class=\"node\"><title>8</title>\r\n",
       "<path fill=\"none\" stroke=\"black\" d=\"M120,-83.5C120,-83.5 150,-83.5 150,-83.5 156,-83.5 162,-89.5 162,-95.5 162,-95.5 162,-117.5 162,-117.5 162,-123.5 156,-129.5 150,-129.5 150,-129.5 120,-129.5 120,-129.5 114,-129.5 108,-123.5 108,-117.5 108,-117.5 108,-95.5 108,-95.5 108,-89.5 114,-83.5 120,-83.5\"/>\r\n",
       "<text text-anchor=\"middle\" x=\"135\" y=\"-114.3\" font-family=\"Times New Roman,serif\" font-size=\"14.00\">1</text>\r\n",
       "<polyline fill=\"none\" stroke=\"black\" points=\"108,-106.5 162,-106.5 \"/>\r\n",
       "<text text-anchor=\"middle\" x=\"135\" y=\"-91.3\" font-family=\"Times New Roman,serif\" font-size=\"14.00\">1</text>\r\n",
       "</g>\r\n",
       "<!-- 4&#45;&gt;8 -->\r\n",
       "<g id=\"edge8\" class=\"edge\"><title>4&#45;&gt;8</title>\r\n",
       "<path fill=\"none\" stroke=\"black\" d=\"M135,-166.366C135,-158.152 135,-148.658 135,-139.725\"/>\r\n",
       "<polygon fill=\"black\" stroke=\"black\" points=\"138.5,-139.607 135,-129.607 131.5,-139.607 138.5,-139.607\"/>\r\n",
       "</g>\r\n",
       "<!-- 10 -->\r\n",
       "<g id=\"node12\" class=\"node\"><title>10</title>\r\n",
       "<path fill=\"none\" stroke=\"black\" d=\"M192,-83.5C192,-83.5 222,-83.5 222,-83.5 228,-83.5 234,-89.5 234,-95.5 234,-95.5 234,-117.5 234,-117.5 234,-123.5 228,-129.5 222,-129.5 222,-129.5 192,-129.5 192,-129.5 186,-129.5 180,-123.5 180,-117.5 180,-117.5 180,-95.5 180,-95.5 180,-89.5 186,-83.5 192,-83.5\"/>\r\n",
       "<text text-anchor=\"middle\" x=\"207\" y=\"-114.3\" font-family=\"Times New Roman,serif\" font-size=\"14.00\">1</text>\r\n",
       "<polyline fill=\"none\" stroke=\"black\" points=\"180,-106.5 234,-106.5 \"/>\r\n",
       "<text text-anchor=\"middle\" x=\"207\" y=\"-91.3\" font-family=\"Times New Roman,serif\" font-size=\"14.00\">1</text>\r\n",
       "</g>\r\n",
       "<!-- 9&#45;&gt;10 -->\r\n",
       "<g id=\"edge11\" class=\"edge\"><title>9&#45;&gt;10</title>\r\n",
       "<path fill=\"none\" stroke=\"black\" d=\"M233.163,-166.366C229.393,-157.884 225.017,-148.037 220.935,-138.853\"/>\r\n",
       "<polygon fill=\"black\" stroke=\"black\" points=\"224.085,-137.323 216.825,-129.607 217.688,-140.166 224.085,-137.323\"/>\r\n",
       "</g>\r\n",
       "<!-- 11 -->\r\n",
       "<g id=\"node13\" class=\"node\"><title>11</title>\r\n",
       "<path fill=\"none\" stroke=\"black\" d=\"M264,-83.5C264,-83.5 294,-83.5 294,-83.5 300,-83.5 306,-89.5 306,-95.5 306,-95.5 306,-117.5 306,-117.5 306,-123.5 300,-129.5 294,-129.5 294,-129.5 264,-129.5 264,-129.5 258,-129.5 252,-123.5 252,-117.5 252,-117.5 252,-95.5 252,-95.5 252,-89.5 258,-83.5 264,-83.5\"/>\r\n",
       "<text text-anchor=\"middle\" x=\"279\" y=\"-114.3\" font-family=\"Times New Roman,serif\" font-size=\"14.00\">0</text>\r\n",
       "<polyline fill=\"none\" stroke=\"black\" points=\"252,-106.5 306,-106.5 \"/>\r\n",
       "<text text-anchor=\"middle\" x=\"279\" y=\"-91.3\" font-family=\"Times New Roman,serif\" font-size=\"14.00\">0</text>\r\n",
       "</g>\r\n",
       "<!-- 9&#45;&gt;11 -->\r\n",
       "<g id=\"edge12\" class=\"edge\"><title>9&#45;&gt;11</title>\r\n",
       "<path fill=\"none\" stroke=\"black\" d=\"M252.837,-166.366C256.607,-157.884 260.983,-148.037 265.065,-138.853\"/>\r\n",
       "<polygon fill=\"black\" stroke=\"black\" points=\"268.312,-140.166 269.175,-129.607 261.915,-137.323 268.312,-140.166\"/>\r\n",
       "</g>\r\n",
       "<!-- 6 -->\r\n",
       "<g id=\"node10\" class=\"node\"><title>6</title>\r\n",
       "<path fill=\"none\" stroke=\"black\" d=\"M12,-0.5C12,-0.5 42,-0.5 42,-0.5 48,-0.5 54,-6.5 54,-12.5 54,-12.5 54,-34.5 54,-34.5 54,-40.5 48,-46.5 42,-46.5 42,-46.5 12,-46.5 12,-46.5 6,-46.5 0,-40.5 0,-34.5 0,-34.5 0,-12.5 0,-12.5 0,-6.5 6,-0.5 12,-0.5\"/>\r\n",
       "<text text-anchor=\"middle\" x=\"27\" y=\"-31.3\" font-family=\"Times New Roman,serif\" font-size=\"14.00\">1</text>\r\n",
       "<polyline fill=\"none\" stroke=\"black\" points=\"0,-23.5 54,-23.5 \"/>\r\n",
       "<text text-anchor=\"middle\" x=\"27\" y=\"-8.3\" font-family=\"Times New Roman,serif\" font-size=\"14.00\">1</text>\r\n",
       "</g>\r\n",
       "<!-- 5&#45;&gt;6 -->\r\n",
       "<g id=\"edge9\" class=\"edge\"><title>5&#45;&gt;6</title>\r\n",
       "<path fill=\"none\" stroke=\"black\" d=\"M53.1628,-83.3664C49.3928,-74.8838 45.0166,-65.0374 40.9347,-55.8532\"/>\r\n",
       "<polygon fill=\"black\" stroke=\"black\" points=\"44.0851,-54.3235 36.8253,-46.6068 37.6884,-57.1665 44.0851,-54.3235\"/>\r\n",
       "</g>\r\n",
       "<!-- 7 -->\r\n",
       "<g id=\"node11\" class=\"node\"><title>7</title>\r\n",
       "<path fill=\"none\" stroke=\"black\" d=\"M84,-0.5C84,-0.5 114,-0.5 114,-0.5 120,-0.5 126,-6.5 126,-12.5 126,-12.5 126,-34.5 126,-34.5 126,-40.5 120,-46.5 114,-46.5 114,-46.5 84,-46.5 84,-46.5 78,-46.5 72,-40.5 72,-34.5 72,-34.5 72,-12.5 72,-12.5 72,-6.5 78,-0.5 84,-0.5\"/>\r\n",
       "<text text-anchor=\"middle\" x=\"99\" y=\"-31.3\" font-family=\"Times New Roman,serif\" font-size=\"14.00\">0</text>\r\n",
       "<polyline fill=\"none\" stroke=\"black\" points=\"72,-23.5 126,-23.5 \"/>\r\n",
       "<text text-anchor=\"middle\" x=\"99\" y=\"-8.3\" font-family=\"Times New Roman,serif\" font-size=\"14.00\">0</text>\r\n",
       "</g>\r\n",
       "<!-- 5&#45;&gt;7 -->\r\n",
       "<g id=\"edge10\" class=\"edge\"><title>5&#45;&gt;7</title>\r\n",
       "<path fill=\"none\" stroke=\"black\" d=\"M72.8372,-83.3664C76.6072,-74.8838 80.9834,-65.0374 85.0653,-55.8532\"/>\r\n",
       "<polygon fill=\"black\" stroke=\"black\" points=\"88.3116,-57.1665 89.1747,-46.6068 81.9149,-54.3235 88.3116,-57.1665\"/>\r\n",
       "</g>\r\n",
       "<!-- 14 -->\r\n",
       "<g id=\"node16\" class=\"node\"><title>14</title>\r\n",
       "<path fill=\"none\" stroke=\"black\" d=\"M336,-83.5C336,-83.5 366,-83.5 366,-83.5 372,-83.5 378,-89.5 378,-95.5 378,-95.5 378,-117.5 378,-117.5 378,-123.5 372,-129.5 366,-129.5 366,-129.5 336,-129.5 336,-129.5 330,-129.5 324,-123.5 324,-117.5 324,-117.5 324,-95.5 324,-95.5 324,-89.5 330,-83.5 336,-83.5\"/>\r\n",
       "<text text-anchor=\"middle\" x=\"351\" y=\"-114.3\" font-family=\"Times New Roman,serif\" font-size=\"14.00\">1</text>\r\n",
       "<polyline fill=\"none\" stroke=\"black\" points=\"324,-106.5 378,-106.5 \"/>\r\n",
       "<text text-anchor=\"middle\" x=\"351\" y=\"-91.3\" font-family=\"Times New Roman,serif\" font-size=\"14.00\">1</text>\r\n",
       "</g>\r\n",
       "<!-- 13&#45;&gt;14 -->\r\n",
       "<g id=\"edge15\" class=\"edge\"><title>13&#45;&gt;14</title>\r\n",
       "<path fill=\"none\" stroke=\"black\" d=\"M351,-166.366C351,-158.152 351,-148.658 351,-139.725\"/>\r\n",
       "<polygon fill=\"black\" stroke=\"black\" points=\"354.5,-139.607 351,-129.607 347.5,-139.607 354.5,-139.607\"/>\r\n",
       "</g>\r\n",
       "<!-- 15 -->\r\n",
       "<g id=\"node17\" class=\"node\"><title>15</title>\r\n",
       "<path fill=\"none\" stroke=\"black\" d=\"M408,-83.5C408,-83.5 438,-83.5 438,-83.5 444,-83.5 450,-89.5 450,-95.5 450,-95.5 450,-117.5 450,-117.5 450,-123.5 444,-129.5 438,-129.5 438,-129.5 408,-129.5 408,-129.5 402,-129.5 396,-123.5 396,-117.5 396,-117.5 396,-95.5 396,-95.5 396,-89.5 402,-83.5 408,-83.5\"/>\r\n",
       "<text text-anchor=\"middle\" x=\"423\" y=\"-114.3\" font-family=\"Times New Roman,serif\" font-size=\"14.00\">0</text>\r\n",
       "<polyline fill=\"none\" stroke=\"black\" points=\"396,-106.5 450,-106.5 \"/>\r\n",
       "<text text-anchor=\"middle\" x=\"423\" y=\"-91.3\" font-family=\"Times New Roman,serif\" font-size=\"14.00\">0</text>\r\n",
       "</g>\r\n",
       "<!-- 13&#45;&gt;15 -->\r\n",
       "<g id=\"edge16\" class=\"edge\"><title>13&#45;&gt;15</title>\r\n",
       "<path fill=\"none\" stroke=\"black\" d=\"M370.674,-166.366C378.691,-157.348 388.077,-146.788 396.67,-137.121\"/>\r\n",
       "<polygon fill=\"black\" stroke=\"black\" points=\"399.322,-139.406 403.349,-129.607 394.09,-134.756 399.322,-139.406\"/>\r\n",
       "</g>\r\n",
       "<!-- 19 -->\r\n",
       "<g id=\"node20\" class=\"node\"><title>19</title>\r\n",
       "<path fill=\"none\" stroke=\"black\" d=\"M480,-166.5C480,-166.5 510,-166.5 510,-166.5 516,-166.5 522,-172.5 522,-178.5 522,-178.5 522,-200.5 522,-200.5 522,-206.5 516,-212.5 510,-212.5 510,-212.5 480,-212.5 480,-212.5 474,-212.5 468,-206.5 468,-200.5 468,-200.5 468,-178.5 468,-178.5 468,-172.5 474,-166.5 480,-166.5\"/>\r\n",
       "<text text-anchor=\"middle\" x=\"495\" y=\"-197.3\" font-family=\"Times New Roman,serif\" font-size=\"14.00\">2</text>\r\n",
       "<polyline fill=\"none\" stroke=\"black\" points=\"468,-189.5 522,-189.5 \"/>\r\n",
       "<text text-anchor=\"middle\" x=\"495\" y=\"-174.3\" font-family=\"Times New Roman,serif\" font-size=\"14.00\">1</text>\r\n",
       "</g>\r\n",
       "<!-- 18&#45;&gt;19 -->\r\n",
       "<g id=\"edge19\" class=\"edge\"><title>18&#45;&gt;19</title>\r\n",
       "<path fill=\"none\" stroke=\"black\" d=\"M521.163,-249.366C517.393,-240.884 513.017,-231.037 508.935,-221.853\"/>\r\n",
       "<polygon fill=\"black\" stroke=\"black\" points=\"512.085,-220.323 504.825,-212.607 505.688,-223.166 512.085,-220.323\"/>\r\n",
       "</g>\r\n",
       "<!-- 22 -->\r\n",
       "<g id=\"node21\" class=\"node\"><title>22</title>\r\n",
       "<path fill=\"none\" stroke=\"black\" d=\"M552,-166.5C552,-166.5 582,-166.5 582,-166.5 588,-166.5 594,-172.5 594,-178.5 594,-178.5 594,-200.5 594,-200.5 594,-206.5 588,-212.5 582,-212.5 582,-212.5 552,-212.5 552,-212.5 546,-212.5 540,-206.5 540,-200.5 540,-200.5 540,-178.5 540,-178.5 540,-172.5 546,-166.5 552,-166.5\"/>\r\n",
       "<text text-anchor=\"middle\" x=\"567\" y=\"-197.3\" font-family=\"Times New Roman,serif\" font-size=\"14.00\">1</text>\r\n",
       "<polyline fill=\"none\" stroke=\"black\" points=\"540,-189.5 594,-189.5 \"/>\r\n",
       "<text text-anchor=\"middle\" x=\"567\" y=\"-174.3\" font-family=\"Times New Roman,serif\" font-size=\"14.00\">1</text>\r\n",
       "</g>\r\n",
       "<!-- 18&#45;&gt;22 -->\r\n",
       "<g id=\"edge20\" class=\"edge\"><title>18&#45;&gt;22</title>\r\n",
       "<path fill=\"none\" stroke=\"black\" d=\"M540.837,-249.366C544.607,-240.884 548.983,-231.037 553.065,-221.853\"/>\r\n",
       "<polygon fill=\"black\" stroke=\"black\" points=\"556.312,-223.166 557.175,-212.607 549.915,-220.323 556.312,-223.166\"/>\r\n",
       "</g>\r\n",
       "<!-- 24 -->\r\n",
       "<g id=\"node24\" class=\"node\"><title>24</title>\r\n",
       "<path fill=\"none\" stroke=\"black\" d=\"M624,-166.5C624,-166.5 654,-166.5 654,-166.5 660,-166.5 666,-172.5 666,-178.5 666,-178.5 666,-200.5 666,-200.5 666,-206.5 660,-212.5 654,-212.5 654,-212.5 624,-212.5 624,-212.5 618,-212.5 612,-206.5 612,-200.5 612,-200.5 612,-178.5 612,-178.5 612,-172.5 618,-166.5 624,-166.5\"/>\r\n",
       "<text text-anchor=\"middle\" x=\"639\" y=\"-197.3\" font-family=\"Times New Roman,serif\" font-size=\"14.00\">1</text>\r\n",
       "<polyline fill=\"none\" stroke=\"black\" points=\"612,-189.5 666,-189.5 \"/>\r\n",
       "<text text-anchor=\"middle\" x=\"639\" y=\"-174.3\" font-family=\"Times New Roman,serif\" font-size=\"14.00\">1</text>\r\n",
       "</g>\r\n",
       "<!-- 23&#45;&gt;24 -->\r\n",
       "<g id=\"edge23\" class=\"edge\"><title>23&#45;&gt;24</title>\r\n",
       "<path fill=\"none\" stroke=\"black\" d=\"M639,-249.366C639,-241.152 639,-231.658 639,-222.725\"/>\r\n",
       "<polygon fill=\"black\" stroke=\"black\" points=\"642.5,-222.607 639,-212.607 635.5,-222.607 642.5,-222.607\"/>\r\n",
       "</g>\r\n",
       "<!-- 25 -->\r\n",
       "<g id=\"node25\" class=\"node\"><title>25</title>\r\n",
       "<path fill=\"none\" stroke=\"black\" d=\"M696,-166.5C696,-166.5 726,-166.5 726,-166.5 732,-166.5 738,-172.5 738,-178.5 738,-178.5 738,-200.5 738,-200.5 738,-206.5 732,-212.5 726,-212.5 726,-212.5 696,-212.5 696,-212.5 690,-212.5 684,-206.5 684,-200.5 684,-200.5 684,-178.5 684,-178.5 684,-172.5 690,-166.5 696,-166.5\"/>\r\n",
       "<text text-anchor=\"middle\" x=\"711\" y=\"-197.3\" font-family=\"Times New Roman,serif\" font-size=\"14.00\">0</text>\r\n",
       "<polyline fill=\"none\" stroke=\"black\" points=\"684,-189.5 738,-189.5 \"/>\r\n",
       "<text text-anchor=\"middle\" x=\"711\" y=\"-174.3\" font-family=\"Times New Roman,serif\" font-size=\"14.00\">0</text>\r\n",
       "</g>\r\n",
       "<!-- 23&#45;&gt;25 -->\r\n",
       "<g id=\"edge24\" class=\"edge\"><title>23&#45;&gt;25</title>\r\n",
       "<path fill=\"none\" stroke=\"black\" d=\"M658.674,-249.366C666.691,-240.348 676.077,-229.788 684.67,-220.121\"/>\r\n",
       "<polygon fill=\"black\" stroke=\"black\" points=\"687.322,-222.406 691.349,-212.607 682.09,-217.756 687.322,-222.406\"/>\r\n",
       "</g>\r\n",
       "<!-- 20 -->\r\n",
       "<g id=\"node22\" class=\"node\"><title>20</title>\r\n",
       "<path fill=\"none\" stroke=\"black\" d=\"M480,-83.5C480,-83.5 510,-83.5 510,-83.5 516,-83.5 522,-89.5 522,-95.5 522,-95.5 522,-117.5 522,-117.5 522,-123.5 516,-129.5 510,-129.5 510,-129.5 480,-129.5 480,-129.5 474,-129.5 468,-123.5 468,-117.5 468,-117.5 468,-95.5 468,-95.5 468,-89.5 474,-83.5 480,-83.5\"/>\r\n",
       "<text text-anchor=\"middle\" x=\"495\" y=\"-114.3\" font-family=\"Times New Roman,serif\" font-size=\"14.00\">1</text>\r\n",
       "<polyline fill=\"none\" stroke=\"black\" points=\"468,-106.5 522,-106.5 \"/>\r\n",
       "<text text-anchor=\"middle\" x=\"495\" y=\"-91.3\" font-family=\"Times New Roman,serif\" font-size=\"14.00\">1</text>\r\n",
       "</g>\r\n",
       "<!-- 19&#45;&gt;20 -->\r\n",
       "<g id=\"edge21\" class=\"edge\"><title>19&#45;&gt;20</title>\r\n",
       "<path fill=\"none\" stroke=\"black\" d=\"M495,-166.366C495,-158.152 495,-148.658 495,-139.725\"/>\r\n",
       "<polygon fill=\"black\" stroke=\"black\" points=\"498.5,-139.607 495,-129.607 491.5,-139.607 498.5,-139.607\"/>\r\n",
       "</g>\r\n",
       "<!-- 21 -->\r\n",
       "<g id=\"node23\" class=\"node\"><title>21</title>\r\n",
       "<path fill=\"none\" stroke=\"black\" d=\"M552,-83.5C552,-83.5 582,-83.5 582,-83.5 588,-83.5 594,-89.5 594,-95.5 594,-95.5 594,-117.5 594,-117.5 594,-123.5 588,-129.5 582,-129.5 582,-129.5 552,-129.5 552,-129.5 546,-129.5 540,-123.5 540,-117.5 540,-117.5 540,-95.5 540,-95.5 540,-89.5 546,-83.5 552,-83.5\"/>\r\n",
       "<text text-anchor=\"middle\" x=\"567\" y=\"-114.3\" font-family=\"Times New Roman,serif\" font-size=\"14.00\">0</text>\r\n",
       "<polyline fill=\"none\" stroke=\"black\" points=\"540,-106.5 594,-106.5 \"/>\r\n",
       "<text text-anchor=\"middle\" x=\"567\" y=\"-91.3\" font-family=\"Times New Roman,serif\" font-size=\"14.00\">0</text>\r\n",
       "</g>\r\n",
       "<!-- 19&#45;&gt;21 -->\r\n",
       "<g id=\"edge22\" class=\"edge\"><title>19&#45;&gt;21</title>\r\n",
       "<path fill=\"none\" stroke=\"black\" d=\"M514.674,-166.366C522.691,-157.348 532.077,-146.788 540.67,-137.121\"/>\r\n",
       "<polygon fill=\"black\" stroke=\"black\" points=\"543.322,-139.406 547.349,-129.607 538.09,-134.756 543.322,-139.406\"/>\r\n",
       "</g>\r\n",
       "</g>\r\n",
       "</svg>\r\n"
      ],
      "text/plain": [
       "<graphviz.dot.Digraph at 0x1f2db668940>"
      ]
     },
     "execution_count": 17,
     "metadata": {},
     "output_type": "execute_result"
    }
   ],
   "source": [
    "t = fibonacci_tree(6)\n",
    "t.toDot()"
   ]
  },
  {
   "cell_type": "markdown",
   "metadata": {},
   "source": [
    "The *computation tree* for the computation of `fibonacci(6)` shows the reason for the inefficiency:\n",
    "* `fibonacci(5)` is computed once,\n",
    "* `fibonacci(4)` is computed 2 times,\n",
    "* `fibonacci(3)` is computed 3 times,\n",
    "* `fibonacci(2)` is computed 5 times,\n",
    "* `fibonacci(1)` is computed 8 times, and\n",
    "* `fibonacci(0)` is computed 5 times."
   ]
  },
  {
   "cell_type": "markdown",
   "metadata": {},
   "source": [
    "If we want to compute the Fibonacci numbers efficiently, we must not compute the value `fibonacci(n)` for a given `n` more than once.  The easiest way to achieve this is by storing the Fibnacci numbers in a list `L`.  In the implementation below, `L[n]` stores the $n$-th Fibonacci number."
   ]
  },
  {
   "cell_type": "code",
   "execution_count": null,
   "metadata": {},
   "outputs": [],
   "source": [
    "def fibonacci_mem(n):\n",
    "    if n <= 1:\n",
    "        return n\n",
    "    L    = [0 for k in range(n+1)]\n",
    "    L[0] = 0\n",
    "    L[1] = 1\n",
    "    for k in range(2, n+1):\n",
    "        L[k] = L[k-1] + L[k-2]\n",
    "    return L[n]"
   ]
  },
  {
   "cell_type": "markdown",
   "metadata": {},
   "source": [
    "Now it is even possible to compute the $100,000^\\mbox{th}$ *Fibonnaci number*."
   ]
  },
  {
   "cell_type": "code",
   "execution_count": null,
   "metadata": {},
   "outputs": [],
   "source": [
    "%%time\n",
    "x = fibonacci_mem(100000)"
   ]
  },
  {
   "cell_type": "code",
   "execution_count": null,
   "metadata": {
    "scrolled": false
   },
   "outputs": [],
   "source": [
    "x"
   ]
  },
  {
   "cell_type": "code",
   "execution_count": null,
   "metadata": {},
   "outputs": [],
   "source": []
  }
 ],
 "metadata": {
  "kernelspec": {
   "display_name": "Python 3",
   "language": "python",
   "name": "python3"
  },
  "language_info": {
   "codemirror_mode": {
    "name": "ipython",
    "version": 3
   },
   "file_extension": ".py",
   "mimetype": "text/x-python",
   "name": "python",
   "nbconvert_exporter": "python",
   "pygments_lexer": "ipython3",
   "version": "3.8.8"
  }
 },
 "nbformat": 4,
 "nbformat_minor": 2
}
