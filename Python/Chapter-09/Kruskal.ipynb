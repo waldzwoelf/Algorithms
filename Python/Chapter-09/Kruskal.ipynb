{
 "cells": [
  {
   "cell_type": "code",
   "execution_count": null,
   "metadata": {},
   "outputs": [],
   "source": [
    "from IPython.core.display import HTML\n",
    "with open('../style.css') as file:\n",
    "    css = file.read()\n",
    "HTML(css)"
   ]
  },
  {
   "cell_type": "markdown",
   "metadata": {},
   "source": [
    "# Kruskal's Algorithm for Computing the Minimum Spanning Tree"
   ]
  },
  {
   "cell_type": "markdown",
   "metadata": {},
   "source": [
    "In our implementation of [Kruskal's algorithm](https://en.wikipedia.org/wiki/Kruskal%27s_algorithm) for finding the \n",
    "*minimum spanning tree* we use the *union-find* data structure that we have defined previously."
   ]
  },
  {
   "cell_type": "code",
   "execution_count": null,
   "metadata": {},
   "outputs": [],
   "source": [
    "%run Union-Find-OO.ipynb"
   ]
  },
  {
   "cell_type": "markdown",
   "metadata": {},
   "source": [
    "Furthermore, we need a priority queue. The module `heapq` implements a priority queue.  The part\n",
    "of the API from this module that we utilize is the following:\n",
    "- `H.heappush(x)` pushes `x` onto the heap `H`,\n",
    "- `H.heappop()`   removes the smallest element from the heap `H` and returns this element,\n",
    "- `H = []`        creates an empty heap."
   ]
  },
  {
   "cell_type": "code",
   "execution_count": null,
   "metadata": {},
   "outputs": [],
   "source": [
    "import heapq as hq"
   ]
  },
  {
   "cell_type": "markdown",
   "metadata": {},
   "source": [
    "The function $\\texttt{mst}(V, E)$ takes a set of *nodes* $V$ and a set of *weighted edges* $E$ to compute a minimum spanning tree.  It is assumed that the pair $(V, E)$ represents a *weighted graph* $G$ that is *connected*.  The weighted edges in the set $E$ have the form\n",
    "$$ \\bigl\\langle w, \\langle x, y\\rangle\\bigr\\rangle.  $$\n",
    "Here, $x$ and $y$ are nodes from the set $V$, while $w$ is the cost of the edge $\\{x,y\\}$.  \n",
    "\n",
    "The function call `mst(V, E)` returns a set of weighted edges that define a [minimum spanning tree](https://en.wikipedia.org/wiki/Minimum_spanning_tree)\n",
    "of the weighted graph $G$. The function `mst` does **not** check whether $G$ is connected."
   ]
  },
  {
   "cell_type": "code",
   "execution_count": null,
   "metadata": {},
   "outputs": [],
   "source": [
    "def mst(V, E):\n",
    "    UF  = UnionFind(V)\n",
    "    MST = set()         # minimum spanning tree, represented as set of weighted edges\n",
    "    H   = []            # empty priority queue for weighted edges\n",
    "    for edge in E:\n",
    "        hq.heappush(H, edge)\n",
    "    while True:\n",
    "        w, (x, y) = hq.heappop(H)\n",
    "        root_x = UF.find(x)\n",
    "        root_y = UF.find(y)\n",
    "        if root_x != root_y:\n",
    "            MST.add((w, (x, y)))\n",
    "            UF.union(x, y)\n",
    "            if len(MST) == len(V) - 1:\n",
    "                return MST"
   ]
  },
  {
   "cell_type": "markdown",
   "metadata": {},
   "source": [
    "The implementation of `mst` that is given below traces its computation via `graphviz`."
   ]
  },
  {
   "cell_type": "code",
   "execution_count": null,
   "metadata": {},
   "outputs": [],
   "source": [
    "def mst(V, E):\n",
    "    UF  = UnionFind(V)\n",
    "    MST = set()         # minimum spanning tree, represented as set of weighted edges\n",
    "    H   = []            # empty priority queue for weighted edges\n",
    "    for edge in E:\n",
    "        hq.heappush(H, edge)\n",
    "    while True:\n",
    "        w, (x, y) = hq.heappop(H)\n",
    "        print(f'testing {x} - {y}, weight {w}')\n",
    "        root_x = UF.find(x)\n",
    "        root_y = UF.find(y)\n",
    "        if root_x != root_y:\n",
    "            print(f'connect {x} - {y}')\n",
    "            MST.add((w, (x, y)))\n",
    "            UF.union(x, y)\n",
    "            display(toDot(E, MST))\n",
    "            print('_' * 120)\n",
    "            if len(MST) == len(V) - 1:\n",
    "                return MST"
   ]
  },
  {
   "cell_type": "code",
   "execution_count": null,
   "metadata": {},
   "outputs": [],
   "source": [
    "import graphviz as gv"
   ]
  },
  {
   "cell_type": "markdown",
   "metadata": {},
   "source": [
    "Given a set $E$ of weighted edges, the function $\\texttt{toDot}$ transforms this set into a dot structure that can be displayed as a graph.  The edges that are present in the set $H$ are assumed to be the edges that are part of the minimum spanning tree and therefore are highlighted."
   ]
  },
  {
   "cell_type": "code",
   "execution_count": null,
   "metadata": {},
   "outputs": [],
   "source": [
    "def toDot(E, H):\n",
    "    V = set()\n",
    "    for (_, (x, y)) in E:\n",
    "        V.add(x)\n",
    "        V.add(y)\n",
    "    dot = gv.Graph()\n",
    "    dot.attr(rankdir='LR')\n",
    "    for x in V:\n",
    "        dot.node(str(x))\n",
    "    for (w, (x, y)) in E:\n",
    "        if (w, (x, y)) in H:\n",
    "            dot.edge(str(x), str(y), label=str(w), color='blue', penwidth='2')\n",
    "        else:\n",
    "            dot.edge(str(x), str(y), label=str(w), style='dashed')\n",
    "    return dot"
   ]
  },
  {
   "cell_type": "markdown",
   "metadata": {},
   "source": [
    "The file `tiny.txt` contains the description of a weighted graph.  Every line in this file has the form:\n",
    "```\n",
    "x y w\n",
    "```\n",
    "Here `x` and `y` are numbers specifying nodes, while `w` is the weight of this node."
   ]
  },
  {
   "cell_type": "code",
   "execution_count": null,
   "metadata": {},
   "outputs": [],
   "source": [
    "with open('tiny.txt', 'r') as f:\n",
    "    s = f.read()\n",
    "print(s)"
   ]
  },
  {
   "cell_type": "markdown",
   "metadata": {},
   "source": [
    "The function `demoFile(fn)` takes a filename `fn` as its argument. The corresponding file is expected to hold the description of\n",
    "an *undirected weighted graph*.  The function computes the minimum spanning tree for this graph. "
   ]
  },
  {
   "cell_type": "code",
   "execution_count": null,
   "metadata": {},
   "outputs": [],
   "source": [
    "def demoFile(fn):\n",
    "    with open(fn, 'r') as file:\n",
    "        data = file.readlines()\n",
    "    Edges = set()\n",
    "    Nodes = set()\n",
    "    for line in data:\n",
    "        x, y, weight = line.split()\n",
    "        Edges.add( (int(weight), (int(x), int(y))) )\n",
    "        Nodes.add( int(x) )\n",
    "        Nodes.add( int(y) )\n",
    "    MST = mst(Nodes, Edges);\n",
    "    print(MST)\n",
    "    return toDot(Edges, MST)"
   ]
  },
  {
   "cell_type": "code",
   "execution_count": null,
   "metadata": {
    "scrolled": false
   },
   "outputs": [],
   "source": [
    "MST = demoFile('tiny.txt')\n",
    "MST"
   ]
  },
  {
   "cell_type": "code",
   "execution_count": null,
   "metadata": {},
   "outputs": [],
   "source": []
  }
 ],
 "metadata": {
  "kernelspec": {
   "display_name": "Python 3",
   "language": "python",
   "name": "python3"
  },
  "language_info": {
   "codemirror_mode": {
    "name": "ipython",
    "version": 3
   },
   "file_extension": ".py",
   "mimetype": "text/x-python",
   "name": "python",
   "nbconvert_exporter": "python",
   "pygments_lexer": "ipython3",
   "version": "3.9.0"
  },
  "varInspector": {
   "cols": {
    "lenName": 16,
    "lenType": 16,
    "lenVar": 40
   },
   "kernels_config": {
    "python": {
     "delete_cmd_postfix": "",
     "delete_cmd_prefix": "del ",
     "library": "var_list.py",
     "varRefreshCmd": "print(var_dic_list())"
    },
    "r": {
     "delete_cmd_postfix": ") ",
     "delete_cmd_prefix": "rm(",
     "library": "var_list.r",
     "varRefreshCmd": "cat(var_dic_list()) "
    }
   },
   "types_to_exclude": [
    "module",
    "function",
    "builtin_function_or_method",
    "instance",
    "_Feature"
   ],
   "window_display": false
  }
 },
 "nbformat": 4,
 "nbformat_minor": 2
}
