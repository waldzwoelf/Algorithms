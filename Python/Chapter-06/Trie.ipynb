{
 "cells": [
  {
   "cell_type": "code",
   "execution_count": null,
   "metadata": {},
   "outputs": [],
   "source": [
    "from IPython.core.display import HTML\n",
    "with open('../style.css') as file:\n",
    "    css = file.read()\n",
    "HTML(css)"
   ]
  },
  {
   "cell_type": "markdown",
   "metadata": {},
   "source": [
    "# Tries"
   ]
  },
  {
   "cell_type": "markdown",
   "metadata": {},
   "source": [
    "A [trie](https://en.wikipedia.org/wiki/Trie) is a data structure that implements the abstract data type of a *dictionary* in the case that the keys are strings.\n",
    "The set $\\mathbb{T}$ of all tries is defined inductively using the constructor \n",
    "$$ \\texttt{Node}: \\texttt{Value} \\times \\texttt{List}(\\Sigma) \\times\\texttt{List}(\\mathbb{T}) \\rightarrow \\mathbb{T}. $$ \n",
    "Here $\\Sigma$ is the *alphabet*, i.e. the set of characters.\n",
    "The inductive definition of the set $\\mathbb{T}$ has only a single clause: If\n",
    "  - $v \\in \\texttt{Value} \\cup \\{\\Omega\\}$,\n",
    "  - $C\\!s = [c_1, \\cdots, c_n] \\in \\texttt{List}(\\Sigma)$ is a list of different characters of length $n$ and\n",
    "  - $T\\!s = [t_1, \\cdots, t_n] \\in \\texttt{List}(\\mathbb{T})$ is a list of tries of the same length $n$, \n",
    "\n",
    "then we have \n",
    "$$ \\texttt{Node}(v, C\\!s, T\\!s) \\in \\mathbb{T}. $$  "
   ]
  },
  {
   "cell_type": "markdown",
   "metadata": {},
   "source": [
    "The class `Trie` defined below implements *tries*.  An object $t$ of the class `Trie` represents the *trie*\n",
    "$$ \\texttt{Node}(t.\\texttt{mValue}, t.\\texttt{mChars}, t.\\texttt{mTries}). $$\n",
    "The constructor `__init__` creates an empty *trie*."
   ]
  },
  {
   "cell_type": "code",
   "execution_count": null,
   "metadata": {},
   "outputs": [],
   "source": [
    "class Trie:\n",
    "    def __init__(self):\n",
    "        self.mValue  = None\n",
    "        self.mChars  = []\n",
    "        self.mTries  = []\n",
    "        self.mParent = '' # only used by graphviz"
   ]
  },
  {
   "cell_type": "markdown",
   "metadata": {},
   "source": [
    "In order to specify the meaning of the class `Trie` we define the function `find`,\n",
    "which can be used to re<u>trie</u>ve the values stored in a trie.\n",
    "This function has the signature\n",
    "$$ \\texttt{find}: \\mathbb{T} \\times \\Sigma^* \\rightarrow \\texttt{Value} \\cup \\{ \\Omega\\}. $$\n",
    "For a trie $t$ and a string $s$, the expression $t.\\texttt{find}(s)$ returns the\n",
    "value that is associated with the key $s$ in the trie $t$.  The expression\n",
    "$\\texttt{Node}(v,C\\!s,T\\!s).\\texttt{find}(s)$ is defined by induction on the length of the  string $s$:\n",
    "  - $\\texttt{Node}(v, C\\!s, T\\!s).\\texttt{find}(\\varepsilon) = v$.\n",
    "  \n",
    "    The value associated with the empty string $\\varepsilon$ is stored at the root of the trie.\n",
    "  - $c = c_i \\rightarrow \n",
    "     \\texttt{Node}(v, [c_1, \\cdots, c_n], [t_1, \\cdots, t_n]).\\texttt{find}(cr) = t_i.\\texttt{find}(r)\n",
    "    $\n",
    "    \n",
    "    The trie $\\texttt{Node}(v, [c_1, \\cdots, c_n], [t_1, \\cdots, t_n])$ associates a value with\n",
    "    the key $cr$ if the list $[c_1, \\cdots, c_n]$ has a position $i$ such that $c$ equals $c_i$\n",
    "    and, furthermore, the trie  $t_i$ associates a value with the key  $r$.\n",
    "  - $ c \\not\\in C\\!s \\rightarrow\n",
    "     \\texttt{Node}(v, C\\!s, T\\!s).\\texttt{find}(cr) = \\Omega\n",
    "    $\n",
    "\n",
    "    If $c$ does not occur in the list $C\\!s$, then the trie $\\texttt{Node}(v, C\\!s, T\\!s)$ does not store a value for\n",
    "    the key $cr$."
   ]
  },
  {
   "cell_type": "code",
   "execution_count": null,
   "metadata": {},
   "outputs": [],
   "source": [
    "def find(self, s):\n",
    "    if s == '':\n",
    "        return self.mValue\n",
    "    c, r = s[0], s[1:]\n",
    "    for i, ci in enumerate(self.mChars):\n",
    "        if c == ci:\n",
    "            return self.mTries[i].find(r)\n",
    "    return None # not necessary\n",
    "\n",
    "Trie.find = find\n",
    "del find"
   ]
  },
  {
   "cell_type": "code",
   "execution_count": null,
   "metadata": {},
   "outputs": [],
   "source": [
    "list(enumerate(['a', 'b', 'c']))"
   ]
  },
  {
   "cell_type": "markdown",
   "metadata": {},
   "source": [
    "The signature of the method $\\texttt{insert}$ is given as follows:\n",
    "$$ \\texttt{insert}: \\mathbb{T} \\times \\Sigma^* \\times \\texttt{Value} \\rightarrow \\mathbb{T}. $$\n",
    "The result of evaluating \n",
    "$$ \\texttt{Node}(v_1, [c_1, \\cdots, c_n], [t_1, \\cdots, t_n]).\\texttt{insert}(w, v_2) $$\n",
    "for a string $w\\in \\Sigma^*$ and a value $v_2 \\in \\texttt{Value}$ is defined by induction on the\n",
    "length of $w$:\n",
    "  - $\\texttt{Node}(v_1,L,T).\\texttt{insert}(\\varepsilon, v_2) = \\texttt{Node}(v_2,L,T)$.\n",
    "  \n",
    "    If a new value $v_2$ is associated with the empty string $\\varepsilon$, then the old value\n",
    "    $v_1$, which had been stored at the root before, is overwritten.\n",
    "  - $\\texttt{Node}\\bigl(v_1,[c_1,\\cdots,c_i,\\cdots,c_n], [t_1,\\cdots,t_i,\\cdots,t_n]\\bigr).\\texttt{insert}(c_ir,v_2) =\n",
    "     \\texttt{Node}\\bigl(v_1,[c_1,\\cdots,c_i,\\cdots,c_n], [t_1,\\cdots,t_i.\\texttt{insert}(r,v_2),\\cdots,t_n]\\bigr)$.\n",
    "\n",
    "    In order to associate a value $v_2$ with the string $c_ir$ in the trie\n",
    "    $$ \\texttt{Node}\\bigl(v_1,[c_1,\\cdots,c_i,\\cdots,c_n], [t_1,\\cdots,t_i,\\cdots,t_n]\\bigr) $$ \n",
    "    we have to recursively associate the value $v_2$ with the string $r$ in the trie $t_i$.\n",
    "  - $c \\not\\in\\{c_1,\\cdots,c_n\\} \\;\\rightarrow\\;\\texttt{Node}\\bigl(v_1,[c_1,\\cdots,c_n], [t_1,\\cdots,t_n]\\bigr).\\texttt{insert}(cr,v_2) =\n",
    "     \\texttt{Node}\\bigl(v_1,[c_1,\\cdots,c_n,c], [t_1,\\cdots,t_n,\\texttt{Node}(\\Omega,[],[]).\\texttt{insert}(r,v_2)]\\bigr)$.\n",
    "      \n",
    "    If we want to associate a value $v$ with the key $cr$ in the trie\n",
    "    $\\texttt{Node}\\bigl(v_1,[c_1,\\cdots,c_n], [t_1,\\cdots,t_n]\\bigr)$ then, if the character $c$\n",
    "    does not occur in the list $[c_1,\\cdots,c_n]$, we first have to create a new empty trie.\n",
    "    This trie has the form \n",
    "    $$ \\texttt{Node}(\\Omega, [], []). $$ \n",
    "    Next, we associate the value $v_2$ with the key $r$ in this empty trie.  Finally,\n",
    "    we append the character $c$ to the end of the list $[c_1,\\cdots,c_n]$ and append the trie\n",
    "    $$ \\texttt{Node}(\\Omega, [], []).\\texttt{insert}(r,v_2) $$ \n",
    "    to the end of the list $[t_1,\\cdots,t_n]$."
   ]
  },
  {
   "cell_type": "code",
   "execution_count": null,
   "metadata": {},
   "outputs": [],
   "source": [
    "def insert(self, s, v):\n",
    "    if s == '':\n",
    "        self.mValue = v\n",
    "        return\n",
    "    c, r = s[0], s[1:]\n",
    "    for i, ci in enumerate(self.mChars):\n",
    "        if c == ci:\n",
    "            self.mTries[i].insert(r, v)\n",
    "            return\n",
    "    t = Trie()\n",
    "    t.insert(r, v)\n",
    "    t.mParent = c # necessary for visualization\n",
    "    self.mChars.append(c)\n",
    "    self.mTries.append(t)\n",
    "    \n",
    "Trie.insert = insert\n",
    "del insert"
   ]
  },
  {
   "cell_type": "markdown",
   "metadata": {},
   "source": [
    "In order to implement deletion in tries, we need the auxiliary function `isEmpty`.  Its signature is given as\n",
    "$$ \\texttt{isEmpty}: \\mathbb{T} \\rightarrow \\mathbb{B}. $$\n",
    "For a trie $t$, we have $t.\\texttt{isEmpty}() = \\texttt{True}$ if and only if the trie $t$ does not\n",
    "store any key.  The following formula specifies the function $\\texttt{isEmpty}$:\n",
    "$$ \\texttt{Node}(v, L, T).\\texttt{isEmpty}() = \\mathtt{True} \\Leftrightarrow v = \\Omega \\wedge L = []. $$\n",
    "Note that the condition $L = []$ implies $T = []$. "
   ]
  },
  {
   "cell_type": "code",
   "execution_count": null,
   "metadata": {},
   "outputs": [],
   "source": [
    "def isEmpty(self):\n",
    "    return self.mValue == None and self.mChars == []\n",
    "\n",
    "Trie.isEmpty = isEmpty\n",
    "del isEmpty"
   ]
  },
  {
   "cell_type": "markdown",
   "metadata": {},
   "source": [
    "For a trie  $t \\in \\mathbb{T}$ and a string $w \\in \\Sigma^*$ the value $t.\\texttt{delete}(w)$\n",
    "is defined by induction on the length of  $w$.\n",
    "  - $\\texttt{Node}(v,C,T).\\texttt{delete}(\\varepsilon) = \\texttt{Node}(\\Omega,C,T)$\n",
    "\n",
    "    The value that is associated with the empty  string $\\varepsilon$ is stored at the root of the\n",
    "    trie where is can be deleted without further ado.\n",
    "  - $\\begin{array}[t]{ll}\n",
    "     t_i.\\texttt{delete}(r).\\texttt{isEmpty}()   & \\rightarrow \\\\\n",
    "     \\texttt{Node}(v, [c_1,\\cdots,c_i,\\cdots,c_n],[t_1,\\cdots,t_i,\\cdots,t_n]).\\texttt{delete}(c_ir) \n",
    "     & = \\\\\n",
    "     \\qquad \n",
    "     \\texttt{Node}(v, [c_1,\\cdots,c_{i-1},c_{i+1},\\cdots,c_n],[t_1,\\cdots,t_{i-1},t_{i+1},\\cdots,t_n]).\n",
    "     \\end{array}\n",
    "    $\n",
    "\n",
    "    If  the key that is to be deleted starts with the character $c_i$ and if deletion of  the key\n",
    "    $r$ in the $i$th  trie $t_i$ yields an empty\n",
    "    trie, then both the $i^\\mathrm{th}$ character $c_i$ and the $i^\\mathrm{th}$ trie $t_i$ are deleted.\n",
    "  - $\\begin{array}[t]{ll}\n",
    "     \\neg t_i.\\texttt{delete}(r).\\texttt{isEmpty}()   & \\rightarrow \\\\\n",
    "     \\texttt{Node}(v, [c_1,\\cdots,c_i,\\cdots,c_n],[t_1,\\cdots,t_i,\\cdots,t_n]).\\texttt{delete}(c_ir) \n",
    "     & = \\\\\n",
    "     \\qquad \\texttt{Node}(v, [c_1,\\cdots,c_i,\\cdots,c_n],[t_1,\\cdots,t_i.\\texttt{delete}(r),\\cdots,t_n]).\n",
    "     \\end{array}\n",
    "    $\n",
    "\n",
    "    If  the key that is to be deleted starts with the character $c_i$ and if deletion of  the key\n",
    "    $r$ in the $i^\\mathrm{th}$  trie $t_i$ yields a non-empty trie, then the key $r$ has to be deleted recursively\n",
    "    in the trie $t_i$.\n",
    "  - $c \\notin C \\rightarrow \\texttt{Node}(v, C, T).\\texttt{delete}(cr) =\n",
    "       \\texttt{Node}(v, C, T)$. \n",
    "       \n",
    "    If  the key that is to be deleted starts with the character $c$ and  $c$ does not occur in\n",
    "    the list of characters $C$, then the trie does not contain the key $cr$ and therefore there\n",
    "    is nothing  to do:  The trie is left unchanged."
   ]
  },
  {
   "cell_type": "code",
   "execution_count": null,
   "metadata": {},
   "outputs": [],
   "source": [
    "def delete(self, s):\n",
    "    if s == '':\n",
    "        self.mValue = None\n",
    "        return\n",
    "    c, r = s[0], s[1:]\n",
    "    for i, ci in enumerate(self.mChars):\n",
    "        if c == ci:\n",
    "            self.mTries[i].delete(r)\n",
    "            if self.mTries[i].isEmpty():\n",
    "                self.mChars.pop(i)\n",
    "                self.mTries.pop(i)\n",
    "            return\n",
    "        \n",
    "Trie.delete = delete\n",
    "del delete"
   ]
  },
  {
   "cell_type": "markdown",
   "metadata": {},
   "source": [
    "# String Completion"
   ]
  },
  {
   "cell_type": "markdown",
   "metadata": {},
   "source": [
    "In order to implement string completion we define the function `allKeys`, which\n",
    "has the following signature:\n",
    "$$\\texttt{allKeys}: \\mathbb{T} \\times \\Sigma^* \\rightarrow \\texttt{Set}(\\Sigma^*)$$\n",
    "Given a trie $T$ and a string $p$, the function $T.\\texttt{allKeys}(p)$ computes the set of all strings that\n",
    "are stored as keys in the trie $T$.  Furthermore, the string $p$ is added as a prefix to all these string.\n",
    "Therefore we specify the semantics of the function $\\texttt{allKeys}$ as follows:\n",
    "$$ T.\\texttt{allKeys}(p) = \\{ p+w \\mid w \\in T \\}. $$\n",
    "Here, $p+w$ denotes the concatenation of the strings $p$ and $w$ and the expression $w \\in T$ is true iff \n",
    "$T.\\texttt{find}(w) \\not= \\Omega$.\n",
    "\n",
    "Given a trie $T$, the value $T.\\texttt{allKeys}(p)$ is computed by induction on $T$.  There are two cases:\n",
    "- $\\texttt{Node}(\\Omega, [c_1, \\cdots, c_n], [t_1,\\cdots,t_n]).\\texttt{allKeys}(p) = \n",
    "   \\bigcup\\limits_{i=1}^n t_i.\\texttt{allKeys}(p+c_i) \n",
    "  $,\n",
    "- $v \\not= \\Omega \\rightarrow \n",
    "   \\texttt{Node}(v, [c_1, \\cdots, c_n], [t_1,\\cdots,t_n]).\\texttt{allKeys}(p) = \n",
    "   \\{p\\} \\cup \\bigcup\\limits_{i=1}^n t_i.\\texttt{allKeys}(p+c_i) \n",
    "  $."
   ]
  },
  {
   "cell_type": "code",
   "execution_count": null,
   "metadata": {},
   "outputs": [],
   "source": [
    "def allKeys(self, prefix=''):\n",
    "    Result = set()\n",
    "    if self.mValue != None:\n",
    "        Result.add(prefix)\n",
    "    for i, ci in enumerate(self.mChars):\n",
    "        Result |= self.mTries[i].allKeys(prefix + ci)\n",
    "    return Result\n",
    "\n",
    "Trie.allKeys = allKeys\n",
    "del allKeys"
   ]
  },
  {
   "cell_type": "markdown",
   "metadata": {},
   "source": [
    "Next, we specify the auxiliary function `_findSuffix` that has the following signature:\n",
    "$$ \\texttt{_findSuffix}: \\mathbb{T} \\times \\Sigma^* \\times \\Sigma^* \\rightarrow \\texttt{Set}(\\Sigma^*) $$\n",
    "Given a trie $T$, a string $s$, and a string $p$, it returns the set of all strings that are used as keys in $T$\n",
    "and, furthermore, have the prefix $s$.  Additionally, it replaces the prefix $s$ with the string $p$.  Therefore\n",
    "we have\n",
    "$$ T.\\texttt{_findSuffix}(s, p) = \\bigl\\{ p+r \\mid s + r \\in T \\bigr\\}. $$\n",
    "The second argument $p$ is needed in order to make the inductive definition of the function\n",
    "`_findSuffix` work out.  This definition is given next:\n",
    "- $T.\\texttt{_findSuffix}(\\varepsilon, p) = T.\\texttt{allKeys}(p)$,\n",
    "- $\\texttt{Node}\\bigl(v, [c_1, \\cdots, c_n], [t_1,\\cdots,t_n]\\bigr).\\texttt{_findSuffix}(c_ir, p) = \n",
    "   t_i.\\texttt{_findSuffix}(r, p) \n",
    "  $,\n",
    "- $c \\not\\in C\\!s \\rightarrow \\texttt{Node}(v, C\\!s, T\\!s).\\texttt{_findSuffix}(cr, p) = \\{\\}$."
   ]
  },
  {
   "cell_type": "code",
   "execution_count": null,
   "metadata": {},
   "outputs": [],
   "source": [
    "def _findSuffix(self, s, p):\n",
    "    if s == '':\n",
    "        return self.allKeys(p)\n",
    "    c, r = s[0], s[1:]\n",
    "    for i, ci in enumerate(self.mChars):\n",
    "        if c == ci:\n",
    "            return self.mTries[i]._findSuffix(r, p)\n",
    "    return set()\n",
    "\n",
    "Trie._findSuffix = _findSuffix\n",
    "del _findSuffix"
   ]
  },
  {
   "cell_type": "markdown",
   "metadata": {},
   "source": [
    "Finally, we specify the function \n",
    "$$\\texttt{findSuffix}:\\mathbb{T} \\times \\Sigma^* \\rightarrow \\texttt{Set}(\\Sigma^*)$$\n",
    "so that given a trie $T$ and a prefix $p$, the expression $T.\\texttt{findSuffix}(p)$ finds all\n",
    "strings $s \\in T$ that have the prefix $p$, i.e. that can be written in the form $s=p+r$:\n",
    "$$ T.\\texttt{findSuffix}(p) = \\bigl\\{ p+r \\mid p+r \\in T \\bigr\\}. $$\n",
    "Having defined the auxiliary function `_findSuffix`, the function `findSuffix` can be\n",
    "implemented as follows:\n",
    "$$ T.\\texttt{findSuffix}(s) = T.\\texttt{_findSuffix}(s, s). $$"
   ]
  },
  {
   "cell_type": "code",
   "execution_count": null,
   "metadata": {},
   "outputs": [],
   "source": [
    "def findSuffix(self, s):\n",
    "    return self._findSuffix(s, s)\n",
    "\n",
    "Trie.findSuffix = findSuffix\n",
    "del findSuffix"
   ]
  },
  {
   "cell_type": "markdown",
   "metadata": {},
   "source": [
    "# Graphical Representation via GraphViz"
   ]
  },
  {
   "cell_type": "code",
   "execution_count": null,
   "metadata": {},
   "outputs": [],
   "source": [
    "import graphviz as gv"
   ]
  },
  {
   "cell_type": "code",
   "execution_count": null,
   "metadata": {},
   "outputs": [],
   "source": [
    "def toDot(self):\n",
    "    Trie.sNodeCount = 0 # this is a static variable of the class Trie\n",
    "    dot = gv.Digraph(node_attr={'shape': 'record', 'style': 'rounded'})\n",
    "    NodeDict = {}\n",
    "    self._assignIDs(NodeDict)\n",
    "    for id, t in NodeDict.items():\n",
    "        if t.mValue != None:\n",
    "            dot.node(id, label='{' + t.mParent + '|' + str(t.mValue) + '}')\n",
    "        else:\n",
    "            dot.node(id, label=t.mParent)\n",
    "    for id, t in NodeDict.items():\n",
    "        for x in t.mTries:\n",
    "            dot.edge(id, x.mID)\n",
    "    return dot\n",
    "\n",
    "Trie.toDot = toDot\n",
    "del toDot"
   ]
  },
  {
   "cell_type": "code",
   "execution_count": null,
   "metadata": {},
   "outputs": [],
   "source": [
    "def _assignIDs(self, NodeDict):\n",
    "    Trie.sNodeCount += 1\n",
    "    self.mID = str(Trie.sNodeCount)\n",
    "    NodeDict[self.mID] = self\n",
    "    for t in self.mTries:\n",
    "        t._assignIDs(NodeDict) \n",
    "    \n",
    "Trie._assignIDs = _assignIDs\n",
    "del _assignIDs"
   ]
  },
  {
   "cell_type": "markdown",
   "metadata": {},
   "source": [
    "# Testing"
   ]
  },
  {
   "cell_type": "code",
   "execution_count": null,
   "metadata": {},
   "outputs": [],
   "source": [
    "t = Trie()\n",
    "t.toDot()"
   ]
  },
  {
   "cell_type": "code",
   "execution_count": null,
   "metadata": {},
   "outputs": [],
   "source": [
    "t.insert(\"Hans\", 1)\n",
    "t.toDot()"
   ]
  },
  {
   "cell_type": "code",
   "execution_count": null,
   "metadata": {},
   "outputs": [],
   "source": [
    "t.insert(\"Hanna\", 2)\n",
    "t.toDot()"
   ]
  },
  {
   "cell_type": "code",
   "execution_count": null,
   "metadata": {},
   "outputs": [],
   "source": [
    "t.insert(\"Hilde\", 3)\n",
    "t.toDot()"
   ]
  },
  {
   "cell_type": "code",
   "execution_count": null,
   "metadata": {},
   "outputs": [],
   "source": [
    "t.insert(\"Hugo\", 4)\n",
    "t.toDot()"
   ]
  },
  {
   "cell_type": "code",
   "execution_count": null,
   "metadata": {},
   "outputs": [],
   "source": [
    "t.findSuffix('Hi')"
   ]
  },
  {
   "cell_type": "code",
   "execution_count": null,
   "metadata": {},
   "outputs": [],
   "source": [
    "t.insert(\"Harro\", 5)\n",
    "t.toDot()"
   ]
  },
  {
   "cell_type": "code",
   "execution_count": null,
   "metadata": {},
   "outputs": [],
   "source": [
    "t.insert(\"Heike\", 6)\n",
    "t.toDot()"
   ]
  },
  {
   "cell_type": "code",
   "execution_count": null,
   "metadata": {},
   "outputs": [],
   "source": [
    "t.insert(\"Heiko\", 7)\n",
    "t.toDot()"
   ]
  },
  {
   "cell_type": "code",
   "execution_count": null,
   "metadata": {},
   "outputs": [],
   "source": [
    "t.find('Hilde')"
   ]
  },
  {
   "cell_type": "code",
   "execution_count": null,
   "metadata": {
    "scrolled": false
   },
   "outputs": [],
   "source": [
    "t.insert(\"Harald\", 8)\n",
    "t.insert(\"Hasso\", 9)\n",
    "t.insert(\"Haley\", 1)\n",
    "t.insert(\"Hanny\", 1)\n",
    "t.insert(\"Happy\", 1)\n",
    "t.insert(\"Harlene\", 1)\n",
    "t.insert(\"Harley\", 1)\n",
    "t.insert(\"Harmony\", 1)\n",
    "t.insert(\"Harriet\", 1)\n",
    "t.insert(\"Harrietta\", 1)\n",
    "t.insert(\"Hazel\", 1)\n",
    "t.insert(\"Heather\", 1)\n",
    "t.insert(\"Hedwig\", 1)\n",
    "t.insert(\"Hedy\", 1)\n",
    "t.insert(\"Heidi\", 1)\n",
    "t.insert(\"Helaina\", 1)\n",
    "t.insert(\"Helaine\", 1)\n",
    "t.insert(\"Helen\", 1)\n",
    "t.insert(\"Helena\", 1)\n",
    "t.insert(\"Helene\", 1)\n",
    "t.insert(\"Helga\", 1)\n",
    "t.insert(\"Hendrika\", 1)\n",
    "t.insert(\"Henrietta\", 1)\n",
    "t.insert(\"Henriette\", 1)\n",
    "t.insert(\"Hermione\", 1)\n",
    "t.insert(\"Herta\", 1)\n",
    "t.insert(\"Hilary\", 1)\n",
    "t.insert(\"Hilda\", 1)\n",
    "t.toDot()"
   ]
  },
  {
   "cell_type": "code",
   "execution_count": null,
   "metadata": {},
   "outputs": [],
   "source": [
    "t.findSuffix('Hea')"
   ]
  },
  {
   "cell_type": "code",
   "execution_count": null,
   "metadata": {},
   "outputs": [],
   "source": [
    "t.findSuffix('Hel')"
   ]
  },
  {
   "cell_type": "code",
   "execution_count": null,
   "metadata": {
    "scrolled": false
   },
   "outputs": [],
   "source": [
    "t.delete('Hanny')\n",
    "t.toDot()"
   ]
  },
  {
   "cell_type": "code",
   "execution_count": null,
   "metadata": {},
   "outputs": [],
   "source": [
    "t.insert('Auto', 7)\n",
    "t.toDot()"
   ]
  },
  {
   "cell_type": "code",
   "execution_count": null,
   "metadata": {},
   "outputs": [],
   "source": [
    "t.allKeys()"
   ]
  },
  {
   "cell_type": "code",
   "execution_count": null,
   "metadata": {},
   "outputs": [],
   "source": [
    "t.delete(\"Hans\")\n",
    "t.delete(\"Hanna\")\n",
    "t.delete(\"Hilde\")\n",
    "t.delete(\"Hugo\")\n",
    "t.delete(\"Harro\")\n",
    "t.delete(\"Heike\")\n",
    "t.delete(\"Heiko\")\n",
    "t.delete(\"Harald\")\n",
    "t.delete(\"Hasso\")\n",
    "t.delete(\"Haley\")\n",
    "t.delete(\"Hanny\")\n",
    "t.delete(\"Happy\")\n",
    "t.delete(\"Harlene\")\n",
    "t.delete(\"Harley\")\n",
    "t.delete(\"Harmony\")\n",
    "t.delete(\"Harriet\")\n",
    "t.delete(\"Harrietta\")\n",
    "t.delete(\"Hazel\")\n",
    "t.delete(\"Heather\")\n",
    "t.delete(\"Hedwig\")\n",
    "t.delete(\"Hedy\")\n",
    "t.delete(\"Heidi\")\n",
    "t.delete(\"Helaina\")\n",
    "t.delete(\"Helaine\")\n",
    "t.delete(\"Helen\")\n",
    "t.delete(\"Helena\")\n",
    "t.delete(\"Helene\")\n",
    "t.delete(\"Helga\")\n",
    "t.delete(\"Hendrika\")\n",
    "t.delete(\"Henrietta\")\n",
    "t.delete(\"Henriette\")\n",
    "t.delete(\"Hermione\")\n",
    "t.delete(\"Herta\")\n",
    "t.delete(\"Hilary\")\n",
    "t.delete(\"Hilda\")\n",
    "t.toDot()"
   ]
  },
  {
   "cell_type": "markdown",
   "metadata": {},
   "source": [
    "Let us compute the prime numbers less than $100$.  Note that we have to convert numbers to strings in order to be able to use tries."
   ]
  },
  {
   "cell_type": "code",
   "execution_count": null,
   "metadata": {},
   "outputs": [],
   "source": [
    "S = Trie()\n",
    "for i in range(2, 101):\n",
    "    S.insert(str(i), i)\n",
    "for i in range(2, 51):\n",
    "    for j in range(i, 100 // i + 1):\n",
    "        S.delete(str(i * j))\n",
    "S.toDot()"
   ]
  },
  {
   "cell_type": "markdown",
   "metadata": {},
   "source": [
    "Let us compute all key stored in this trie, as these are the prime numbers."
   ]
  },
  {
   "cell_type": "code",
   "execution_count": null,
   "metadata": {},
   "outputs": [],
   "source": [
    "print(sorted([int(p) for p in S.allKeys()]))"
   ]
  },
  {
   "cell_type": "code",
   "execution_count": null,
   "metadata": {},
   "outputs": [],
   "source": []
  }
 ],
 "metadata": {
  "kernelspec": {
   "display_name": "Python 3",
   "language": "python",
   "name": "python3"
  },
  "language_info": {
   "codemirror_mode": {
    "name": "ipython",
    "version": 3
   },
   "file_extension": ".py",
   "mimetype": "text/x-python",
   "name": "python",
   "nbconvert_exporter": "python",
   "pygments_lexer": "ipython3",
   "version": "3.9.0"
  },
  "varInspector": {
   "cols": {
    "lenName": 16,
    "lenType": 16,
    "lenVar": 40
   },
   "kernels_config": {
    "python": {
     "delete_cmd_postfix": "",
     "delete_cmd_prefix": "del ",
     "library": "var_list.py",
     "varRefreshCmd": "print(var_dic_list())"
    },
    "r": {
     "delete_cmd_postfix": ") ",
     "delete_cmd_prefix": "rm(",
     "library": "var_list.r",
     "varRefreshCmd": "cat(var_dic_list()) "
    }
   },
   "types_to_exclude": [
    "module",
    "function",
    "builtin_function_or_method",
    "instance",
    "_Feature"
   ],
   "window_display": false
  }
 },
 "nbformat": 4,
 "nbformat_minor": 2
}
