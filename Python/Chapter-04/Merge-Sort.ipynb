{
 "cells": [
  {
   "cell_type": "code",
   "execution_count": null,
   "metadata": {},
   "outputs": [],
   "source": [
    "from IPython.core.display import HTML\n",
    "with open('../style.css') as file:\n",
    "    css = file.read()\n",
    "HTML(css)"
   ]
  },
  {
   "cell_type": "markdown",
   "metadata": {},
   "source": [
    "# Merge Sort"
   ]
  },
  {
   "cell_type": "markdown",
   "metadata": {},
   "source": [
    "In order to sort a list $L$ using <em style=\"color:blue;\">merge sort</em> we proceed as follows:\n",
    "\n",
    " - If $L$ has less than two elements, then $L$ is already sorted.  Therefore we have: \n",
    "   $$ \\#L < 2 \\rightarrow \\mathtt{sort}(L) = L $$\n",
    " - Otherwise, the list $L$ is split into two lists that have approximately the same size.\n",
    "   These lists are sorted recursively.  Then, the sorted lists are merged in a way that the\n",
    "   resulting list is sorted: \n",
    "   $$ \\#L \\geq 2 \\rightarrow \\mathtt{sort}(L) =\n",
    "         \\mathtt{merge}\\bigl(\\mathtt{sort}\\bigl(\\texttt{L[:n//2]}\\bigr),\n",
    "         \\mathtt{sort}\\bigl(\\texttt{L[n//2:]}\\bigr)\\bigr)\n",
    "   $$\n",
    "   Here, $\\texttt{L[:n//2]}$ is the first part of the list, while\n",
    "   $\\texttt{L[n//2:]}$ is the second part.  If the length of $L$ is even, both part have the same    number of elements, otherwise the second part has one element more than the first part. "
   ]
  },
  {
   "cell_type": "code",
   "execution_count": null,
   "metadata": {},
   "outputs": [],
   "source": [
    "def sort(L):\n",
    "    n = len(L)\n",
    "    if n < 2:\n",
    "        return L\n",
    "    L1, L2 = L[:n//2], L[n//2:]\n",
    "    return merge(sort(L1), sort(L2))"
   ]
  },
  {
   "cell_type": "markdown",
   "metadata": {},
   "source": [
    "We still need to specify how two sorted lists $L_1$ and $L_2$ are merged in a way that the resulting\n",
    "list is also sorted.\n",
    "\n",
    " - If the list $L_1$ is empty, the result is $L_2$: \n",
    "   $$ \\mathtt{merge}([], L_2) = L_2 $$\n",
    " - If the list $L_2$  is empty, the result is $L_1$: \n",
    "   $$ \\mathtt{merge}(L_1, []) = L_1 $$\n",
    " - Otherwise, $L_1$ must have the form $[x_1] + R_1$ and $L_2$ has the form $[x_2] + R_2$.\n",
    "   Then there is a case distinction with respect to the comparison of $x$ and $y$:\n",
    "   - $x_1 \\leq x_2$.\n",
    "     In this case, we merge $R_1$ and $L_2$ and put $x_1$ at the beginning of this list:\n",
    "     $$x_1 \\leq x_2 \\rightarrow \\mathtt{merge}\\bigl([x_1] + R_1, [x_2] + R_2\\bigr) = \n",
    "     \\bigl[x_1\\bigr] + \\mathtt{merge}\\bigl(R_1,[x_2] + R_2\\bigr)\n",
    "     $$\n",
    "   - $\\neg (x_1 \\leq x_2)$.\n",
    "     In this case, we merge $L_1$ and $R_2$ and put $x_2$ at the beginning of this list:\n",
    "     $$\\neg (x_1 \\preceq x_2) \\rightarrow \\mathtt{merge}\\bigl([x_1] + R_1, [x_2] + R_2\\bigr) \n",
    "       = \\bigl[x_2 \\bigr] + \\mathtt{merge}\\bigl([x_1] + R_1, R_2\\bigr)\n",
    "     $$"
   ]
  },
  {
   "cell_type": "code",
   "execution_count": null,
   "metadata": {},
   "outputs": [],
   "source": [
    "def merge(L1, L2):\n",
    "    if L1 == []:\n",
    "        return L2\n",
    "    if L2 == []:\n",
    "        return L1\n",
    "    x1, *R1 = L1\n",
    "    x2, *R2 = L2\n",
    "    if x1 <= x2:\n",
    "        return [x1] + merge(R1, L2)\n",
    "    else:\n",
    "        return [x2] + merge(L1, R2)"
   ]
  },
  {
   "cell_type": "code",
   "execution_count": null,
   "metadata": {},
   "outputs": [],
   "source": [
    "sort([7, 8, 11, 12, 2, 5, 3, 7, 9, 3, 2])"
   ]
  },
  {
   "cell_type": "markdown",
   "metadata": {},
   "source": [
    "## Testing"
   ]
  },
  {
   "cell_type": "markdown",
   "metadata": {},
   "source": [
    "We import the module `random` in order to be able to create lists of random numbers that are used for testing."
   ]
  },
  {
   "cell_type": "code",
   "execution_count": null,
   "metadata": {},
   "outputs": [],
   "source": [
    "import random as rnd"
   ]
  },
  {
   "cell_type": "markdown",
   "metadata": {},
   "source": [
    "We import the class `Counter` from the module `collections`.  This module provides us with a dictionary that keeps count\n",
    "how many times an item occurs in a list."
   ]
  },
  {
   "cell_type": "code",
   "execution_count": null,
   "metadata": {},
   "outputs": [],
   "source": [
    "from collections import Counter"
   ]
  },
  {
   "cell_type": "code",
   "execution_count": null,
   "metadata": {},
   "outputs": [],
   "source": [
    "Counter(['a', 'b', 'a', 'b', 'c', 'a'])"
   ]
  },
  {
   "cell_type": "code",
   "execution_count": null,
   "metadata": {},
   "outputs": [],
   "source": [
    "def demo():\n",
    "    L = [ rnd.randrange(1, 99+1) for n in range(1, 19+1) ]\n",
    "    print(\"L = \", L)\n",
    "    S = L[:]\n",
    "    sort(S)\n",
    "    print(\"S = \", S)\n",
    "    print(Counter(L))\n",
    "    print(Counter(S))\n",
    "    print(Counter(L) == Counter(S))"
   ]
  },
  {
   "cell_type": "code",
   "execution_count": null,
   "metadata": {},
   "outputs": [],
   "source": [
    "demo()"
   ]
  },
  {
   "cell_type": "markdown",
   "metadata": {},
   "source": [
    "The function `isOrdered(L)` checks that the list `L` is sorted ascendingly."
   ]
  },
  {
   "cell_type": "code",
   "execution_count": null,
   "metadata": {},
   "outputs": [],
   "source": [
    "def isOrdered(L):\n",
    "    for i in range(len(L) - 1):\n",
    "        assert L[i] <= L[i+1], f'{L} not ordered at {i}'"
   ]
  },
  {
   "cell_type": "markdown",
   "metadata": {},
   "source": [
    "The function `sameElements(L, S)` returns `True`if the lists `L` and `S` contain the same elements and, furthermore, each \n",
    "element $x$ occurring in `L` occurs in `S` the same number of times it occurs in `L`."
   ]
  },
  {
   "cell_type": "code",
   "execution_count": null,
   "metadata": {},
   "outputs": [],
   "source": [
    "def sameElements(L, S):\n",
    "    assert Counter(L) == Counter(S)"
   ]
  },
  {
   "cell_type": "markdown",
   "metadata": {},
   "source": [
    "The function $\\texttt{testSort}(n, k)$ generates $n$ random lists of length $k$, sorts them, and checks whether the output is sorted and contains the same elements as the input."
   ]
  },
  {
   "cell_type": "code",
   "execution_count": null,
   "metadata": {},
   "outputs": [],
   "source": [
    "def testSort(n, k):\n",
    "    for i in range(n):\n",
    "        L = [ rnd.randrange(2*k) for x in range(k) ]\n",
    "        S = sort(L)\n",
    "        isOrdered(S)\n",
    "        sameElements(L, S)\n",
    "        print('.', end='')\n",
    "    print()\n",
    "    print(\"All tests successful!\")"
   ]
  },
  {
   "cell_type": "markdown",
   "metadata": {},
   "source": [
    "Due to the *recursion limit* in Python we can only sort lists of length 2000."
   ]
  },
  {
   "cell_type": "code",
   "execution_count": null,
   "metadata": {},
   "outputs": [],
   "source": [
    "%%time\n",
    "testSort(100, 2000)"
   ]
  },
  {
   "cell_type": "code",
   "execution_count": null,
   "metadata": {},
   "outputs": [],
   "source": []
  }
 ],
 "metadata": {
  "kernelspec": {
   "display_name": "Python 3",
   "language": "python",
   "name": "python3"
  },
  "language_info": {
   "codemirror_mode": {
    "name": "ipython",
    "version": 3
   },
   "file_extension": ".py",
   "mimetype": "text/x-python",
   "name": "python",
   "nbconvert_exporter": "python",
   "pygments_lexer": "ipython3",
   "version": "3.9.0"
  },
  "varInspector": {
   "cols": {
    "lenName": 16,
    "lenType": 16,
    "lenVar": 40
   },
   "kernels_config": {
    "python": {
     "delete_cmd_postfix": "",
     "delete_cmd_prefix": "del ",
     "library": "var_list.py",
     "varRefreshCmd": "print(var_dic_list())"
    },
    "r": {
     "delete_cmd_postfix": ") ",
     "delete_cmd_prefix": "rm(",
     "library": "var_list.r",
     "varRefreshCmd": "cat(var_dic_list()) "
    }
   },
   "types_to_exclude": [
    "module",
    "function",
    "builtin_function_or_method",
    "instance",
    "_Feature"
   ],
   "window_display": false
  }
 },
 "nbformat": 4,
 "nbformat_minor": 2
}
