{
 "cells": [
  {
   "cell_type": "markdown",
   "metadata": {},
   "source": [
    "## Analyse der Komplexität"
   ]
  },
  {
   "cell_type": "markdown",
   "metadata": {},
   "source": [
    "a_k = Anzahl der Vergleiche bei sort3(L) = 3^k "
   ]
  },
  {
   "cell_type": "code",
   "execution_count": null,
   "metadata": {},
   "outputs": [],
   "source": [
    "Vergleich zu Merge:\n",
    "    \n",
    "    a_k = 2^k * b_k\n",
    "    f(n) = k* 2^k = log2(n) * n\n",
    "    \n",
    "Merge3 hat 3^k Vergleiche \n",
    "    "
   ]
  },
  {
   "cell_type": "markdown",
   "metadata": {},
   "source": [
    "Merge3 teilt die Liste L in 3 Teile der Länge n//3 (+1)\n",
    "\n",
    "Die If Abfragen aus merge3 können optimiert werden, sodass die Vergleiche nicht mehrmals durchgeführt werden. \n",
    "\n",
    "Bei der optimierten Variante kommt man auf max. 2n Vergleiche.\n",
    "\n",
    "a_k = 3^k = 2n\n",
    "\n",
    "a_0 = 0\n",
    "\n",
    "a_k+1 = \n",
    "\n",
    "2n = 3^k --> log3(n) \n",
    "\n"
   ]
  },
  {
   "cell_type": "markdown",
   "metadata": {},
   "source": [
    "## 3-Way Merge Sort"
   ]
  },
  {
   "cell_type": "markdown",
   "metadata": {},
   "source": [
    "#### Sort Function"
   ]
  },
  {
   "cell_type": "code",
   "execution_count": null,
   "metadata": {},
   "outputs": [],
   "source": [
    "def sort(L):\n",
    "    n = len(L)\n",
    "    if n<2: \n",
    "        return L\n",
    "    L1, L2, L3 = L[:n//3], L[n//3:2*n//3], L[2*n//3:]\n",
    "    return merge(sort(L1), sort(L2), sort(L3))"
   ]
  },
  {
   "cell_type": "markdown",
   "metadata": {},
   "source": [
    "#### Merge Function"
   ]
  },
  {
   "cell_type": "code",
   "execution_count": null,
   "metadata": {},
   "outputs": [],
   "source": []
  }
 ],
 "metadata": {
  "kernelspec": {
   "display_name": "Python 3",
   "language": "python",
   "name": "python3"
  },
  "language_info": {
   "codemirror_mode": {
    "name": "ipython",
    "version": 3
   },
   "file_extension": ".py",
   "mimetype": "text/x-python",
   "name": "python",
   "nbconvert_exporter": "python",
   "pygments_lexer": "ipython3",
   "version": "3.8.3"
  }
 },
 "nbformat": 4,
 "nbformat_minor": 4
}
